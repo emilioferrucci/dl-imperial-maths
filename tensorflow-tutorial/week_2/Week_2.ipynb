<<<<<<< HEAD
{
 "cells": [
  {
   "cell_type": "markdown",
   "metadata": {},
   "source": [
    "# Week 2: MLP classifier"
   ]
  },
  {
   "cell_type": "code",
   "execution_count": 1,
   "metadata": {},
   "outputs": [],
   "source": [
    "import tensorflow as tf"
   ]
  },
  {
   "cell_type": "markdown",
   "metadata": {},
   "source": [
    "SVHN can be downloaded from http://ufldl.stanford.edu/housenumbers/"
   ]
  },
  {
   "cell_type": "markdown",
   "metadata": {},
   "source": [
    "## Import and preprocess the data"
   ]
  },
  {
   "cell_type": "code",
   "execution_count": 2,
   "metadata": {},
   "outputs": [],
   "source": [
    "from scipy.io import loadmat\n",
    "\n",
    "train = loadmat('train_32x32.mat')\n",
    "test = loadmat('test_32x32.mat')"
   ]
  },
  {
   "cell_type": "markdown",
   "metadata": {},
   "source": [
    "`train` and `test` are dictionaries with keys `'X'` and `'y'`. The values are numpy arrays."
   ]
  },
  {
   "cell_type": "code",
   "execution_count": 3,
   "metadata": {},
   "outputs": [
    {
     "name": "stdout",
     "output_type": "stream",
     "text": [
      "(32, 32, 3, 73257)\n",
      "(73257, 1)\n",
      "(32, 32, 3, 26032)\n",
      "(26032, 1)\n"
     ]
    }
   ],
   "source": [
    "print(train['X'].shape)\n",
    "print(train['y'].shape)\n",
    "print(test['X'].shape)\n",
    "print(test['y'].shape)"
   ]
  },
  {
   "cell_type": "code",
   "execution_count": 4,
   "metadata": {},
   "outputs": [],
   "source": [
    "import numpy as np\n",
    "\n",
    "training_set = np.transpose(train['X'], (3, 0, 1, 2)).astype(np.float32)\n",
    "training_labels = train['y']\n",
    "\n",
    "test_set = np.transpose(test['X'], (3, 0, 1, 2)).astype(np.float32)\n",
    "test_labels = test['y']"
   ]
  },
  {
   "cell_type": "code",
   "execution_count": 5,
   "metadata": {},
   "outputs": [],
   "source": [
    "n_train = training_set.shape[0]\n",
    "n_test = test_set.shape[0]"
   ]
  },
  {
   "cell_type": "markdown",
   "metadata": {},
   "source": [
    "### Inspect the data"
   ]
  },
  {
   "cell_type": "code",
   "execution_count": 6,
   "metadata": {},
   "outputs": [],
   "source": [
    "from matplotlib import pyplot as plt"
   ]
  },
  {
   "cell_type": "code",
   "execution_count": 7,
   "metadata": {},
   "outputs": [
    {
     "name": "stderr",
     "output_type": "stream",
     "text": [
      "Clipping input data to the valid range for imshow with RGB data ([0..1] for floats or [0..255] for integers).\n"
     ]
    },
    {
     "data": {
      "image/png": "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\n",
      "text/plain": [
       "<Figure size 432x288 with 1 Axes>"
      ]
     },
     "metadata": {
      "needs_background": "light"
     },
     "output_type": "display_data"
    },
    {
     "name": "stdout",
     "output_type": "stream",
     "text": [
      "Digit: 5\n"
     ]
    }
   ],
   "source": [
    "example = np.random.choice(np.arange(n_train))\n",
    "\n",
    "image = training_set[example]\n",
    "label = training_labels[example][0]\n",
    "\n",
    "if label == 10:\n",
    "    label = 0\n",
    "\n",
    "plt.imshow(image)\n",
    "plt.show()\n",
    "\n",
    "print(\"Digit: {}\".format(label))"
   ]
  },
  {
   "cell_type": "markdown",
   "metadata": {},
   "source": [
    "### Convert the images to grayscale"
   ]
  },
  {
   "cell_type": "code",
   "execution_count": 8,
   "metadata": {},
   "outputs": [],
   "source": [
    "def convert_to_grayscale(images):\n",
    "    images = np.add.reduce(images, keepdims=True, axis=3)\n",
    "    images = images / 3.0\n",
    "    return images / 128.0 - 1.0"
   ]
  },
  {
   "cell_type": "code",
   "execution_count": 9,
   "metadata": {},
   "outputs": [],
   "source": [
    "training_set_gs = convert_to_grayscale(training_set)\n",
    "test_set_gs = convert_to_grayscale(test_set)"
   ]
  },
  {
   "cell_type": "code",
   "execution_count": 10,
   "metadata": {},
   "outputs": [
    {
     "name": "stdout",
     "output_type": "stream",
     "text": [
      "(73257, 32, 32, 1)\n",
      "(26032, 32, 32, 1)\n"
     ]
    }
   ],
   "source": [
    "print(training_set_gs.shape)\n",
    "print(test_set_gs.shape)"
   ]
  },
  {
   "cell_type": "code",
   "execution_count": 11,
   "metadata": {},
   "outputs": [
    {
     "data": {
      "image/png": "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\n",
      "text/plain": [
       "<Figure size 432x288 with 1 Axes>"
      ]
     },
     "metadata": {
      "needs_background": "light"
     },
     "output_type": "display_data"
    },
    {
     "name": "stdout",
     "output_type": "stream",
     "text": [
      "Digit: 7\n"
     ]
    }
   ],
   "source": [
    "example = np.random.choice(np.arange(n_train))\n",
    "\n",
    "image = training_set_gs[example]\n",
    "label = training_labels[example][0]\n",
    "\n",
    "if label == 10:\n",
    "    label = 0\n",
    "\n",
    "plt.imshow(np.squeeze(image), cmap='gray')\n",
    "plt.show()\n",
    "\n",
    "print(\"Digit: {}\".format(label))"
   ]
  },
  {
   "cell_type": "markdown",
   "metadata": {},
   "source": [
    "Flatten the inputs to feed into an MLP"
   ]
  },
  {
   "cell_type": "code",
   "execution_count": 12,
   "metadata": {},
   "outputs": [
    {
     "name": "stdout",
     "output_type": "stream",
     "text": [
      "(73257, 1024)\n",
      "(26032, 1024)\n"
     ]
    }
   ],
   "source": [
    "training_set_flat = training_set_gs.reshape((n_train, -1))\n",
    "test_set_flat = test_set_gs.reshape((n_test, -1))\n",
    "\n",
    "print(training_set_flat.shape)\n",
    "print(test_set_flat.shape)"
   ]
  },
  {
   "cell_type": "markdown",
   "metadata": {},
   "source": [
    "### Encode the labels as one-hot vectors"
   ]
  },
  {
   "cell_type": "code",
   "execution_count": 13,
   "metadata": {},
   "outputs": [],
   "source": [
    "def one_hot(labels):\n",
    "    \"\"\"\n",
    "    Encodes the labels as one-hot vectors. Zero is represented as 10 in SVHN.\n",
    "    [10] -> [1, 0, 0, 0, 0, 0, 0, 0, 0, 0]\n",
    "    [2] -> [0, 0, 1, 0, 0, 0, 0, 0, 0, 0]\n",
    "    \n",
    "    \"\"\"\n",
    "    labels = np.squeeze(labels)\n",
    "    one_hot_labels = []\n",
    "    for num in labels:\n",
    "        one_hot = [0.0] * 10\n",
    "        if num == 10:\n",
    "            one_hot[0] = 1.0\n",
    "        else:\n",
    "            one_hot[num] = 1.0\n",
    "        one_hot_labels.append(one_hot)\n",
    "    labels = np.array(one_hot_labels).astype(np.float32)\n",
    "    return labels"
   ]
  },
  {
   "cell_type": "code",
   "execution_count": 14,
   "metadata": {},
   "outputs": [],
   "source": [
    "training_labels_one_hot = one_hot(training_labels)\n",
    "test_labels_one_hot = one_hot(test_labels)"
   ]
  },
  {
   "cell_type": "code",
   "execution_count": 15,
   "metadata": {},
   "outputs": [
    {
     "name": "stdout",
     "output_type": "stream",
     "text": [
      "(73257, 10)\n",
      "(26032, 10)\n"
     ]
    }
   ],
   "source": [
    "print(training_labels_one_hot.shape)\n",
    "print(test_labels_one_hot.shape)"
   ]
  },
  {
   "cell_type": "markdown",
   "metadata": {},
   "source": [
    "## Build the network"
   ]
  },
  {
   "cell_type": "code",
   "execution_count": 16,
   "metadata": {},
   "outputs": [],
   "source": [
    "class SVHN_MLP:\n",
    "    def __init__(self, wd_factor, learning_rate):\n",
    "        self.wd_factor = wd_factor\n",
    "        self.learning_rate = learning_rate\n",
    "        self.train_pointer = 0\n",
    "        self.test_pointer = 0\n",
    "        \n",
    "        self.sess = tf.Session()\n",
    "        \n",
    "        self.input = tf.placeholder(dtype=tf.float32, shape=[None, 1024], name='input')\n",
    "        self.ground_truth = tf.placeholder(dtype=tf.float32, shape=[None, 10], name='ground_truth')\n",
    "        print(self.input)\n",
    "        \n",
    "        self._build_graph()\n",
    "        \n",
    "    def _build_graph(self):\n",
    "        weights = []  # for weight decay\n",
    "        \n",
    "        with tf.variable_scope('layers'):\n",
    "            h = tf.layers.dense(self.input, 512, kernel_initializer=tf.glorot_uniform_initializer(), \n",
    "                                activation=tf.tanh, name='1')\n",
    "            print(h)\n",
    "            h = tf.layers.dense(h, 256, kernel_initializer=tf.glorot_uniform_initializer(), \n",
    "                                activation=tf.tanh, name='2')\n",
    "            print(h)\n",
    "            h = tf.layers.dense(h, 64, kernel_initializer=tf.glorot_uniform_initializer(), \n",
    "                                activation=tf.tanh, name='3')\n",
    "            print(h)\n",
    "            self.logits = tf.layers.dense(h, 10, kernel_initializer=tf.glorot_uniform_initializer(), \n",
    "                                          activation=tf.identity, name='4')\n",
    "            print(self.logits)\n",
    "            self.prediction = tf.nn.softmax(self.logits, name='softmax_prediction')\n",
    "            \n",
    "        with tf.name_scope('loss'):\n",
    "            self.loss = tf.reduce_mean(tf.nn.softmax_cross_entropy_with_logits_v2(logits=self.logits, \n",
    "                                                                                  labels=self.ground_truth))\n",
    "            self.loss += self.weight_decay()\n",
    "            \n",
    "        self.optimizer = tf.train.AdamOptimizer(self.learning_rate)\n",
    "        self.train_op = self.optimizer.minimize(self.loss)\n",
    "            \n",
    "    def weight_decay(self):\n",
    "        loss = 0\n",
    "        for v in tf.global_variables():\n",
    "            if 'Adam' in v.name:\n",
    "                continue\n",
    "            elif 'kernel' in v.name:\n",
    "                loss += self.wd_factor * tf.nn.l2_loss(v)\n",
    "        print(loss)\n",
    "        return loss\n",
    "    \n",
    "    def train_minibatch(self, samples, labels, batch_size):\n",
    "        if self.train_pointer + batch_size <= samples.shape[0]:\n",
    "            samples_minibatch = samples[self.train_pointer: self.train_pointer + batch_size]\n",
    "            labels_minibatch = labels[self.train_pointer: self.train_pointer + batch_size]\n",
    "            self.train_pointer += batch_size\n",
    "        else:\n",
    "            samples_minibatch = samples[self.train_pointer:]\n",
    "            labels_minibatch = labels[self.train_pointer: self.train_pointer + batch_size]\n",
    "            self.train_pointer = 0\n",
    "        return samples_minibatch, labels_minibatch\n",
    "\n",
    "    def train(self, train_samples, train_labels, train_batch_size, iteration_steps):\n",
    "        self.sess.run(tf.global_variables_initializer())\n",
    "\n",
    "        print('Start Training')\n",
    "        losses = []\n",
    "        for i in range(iteration_steps):\n",
    "            samples, labels = self.train_minibatch(train_samples, train_labels, train_batch_size)\n",
    "            feed_dict = {self.input: samples, self.ground_truth: labels}\n",
    "            _, loss = self.sess.run([self.train_op, self.loss], feed_dict=feed_dict)\n",
    "            if i % 50 == 0:\n",
    "                print(\"Minibatch loss at step {}: {}\".format(i, loss))\n",
    "                losses.append([i, loss])\n",
    "        return losses\n",
    "                    \n",
    "    def test_minibatch(self, samples, labels, batch_size):\n",
    "        if self.test_pointer + batch_size <= samples.shape[0]:\n",
    "            samples_minibatch = samples[self.test_pointer: self.test_pointer + batch_size]\n",
    "            labels_minibatch = labels[self.test_pointer: self.test_pointer + batch_size]\n",
    "            self.test_pointer += batch_size\n",
    "            end_of_epoch = False\n",
    "        else:\n",
    "            samples_minibatch = samples[self.test_pointer:]\n",
    "            labels_minibatch = labels[self.test_pointer: self.test_pointer + batch_size]\n",
    "            self.test_pointer = 0\n",
    "            end_of_epoch = True\n",
    "        return samples_minibatch, labels_minibatch, end_of_epoch\n",
    "            \n",
    "    def test(self, test_samples, test_labels, test_batch_size):\n",
    "        end_of_epoch = False\n",
    "        losses = []\n",
    "        while not end_of_epoch:\n",
    "            samples, labels, end_of_epoch = self.test_minibatch(test_samples, test_labels, test_batch_size)\n",
    "            feed_dict = {self.input: samples, self.ground_truth: labels}\n",
    "            losses.append(self.sess.run(self.loss, feed_dict=feed_dict))  \n",
    "        print(\"Average test loss: {}\".format(np.mean(losses)))"
   ]
  },
  {
   "cell_type": "code",
   "execution_count": 17,
   "metadata": {},
   "outputs": [
    {
     "name": "stdout",
     "output_type": "stream",
     "text": [
      "Tensor(\"input:0\", shape=(?, 1024), dtype=float32)\n",
      "Tensor(\"layers/1/Tanh:0\", shape=(?, 512), dtype=float32)\n",
      "Tensor(\"layers/2/Tanh:0\", shape=(?, 256), dtype=float32)\n",
      "Tensor(\"layers/3/Tanh:0\", shape=(?, 64), dtype=float32)\n",
      "Tensor(\"layers/4/Identity:0\", shape=(?, 10), dtype=float32)\n",
      "Tensor(\"loss/add_3:0\", shape=(), dtype=float32)\n"
     ]
    }
   ],
   "source": [
    "WD_FACTOR = 0.0001\n",
    "LEARNING_RATE = 0.001\n",
    "model = SVHN_MLP(WD_FACTOR, LEARNING_RATE)"
   ]
  },
  {
   "cell_type": "code",
   "execution_count": 18,
   "metadata": {},
   "outputs": [
    {
     "data": {
      "text/plain": [
       "[<tf.Variable 'layers/1/kernel:0' shape=(1024, 512) dtype=float32_ref>,\n",
       " <tf.Variable 'layers/1/bias:0' shape=(512,) dtype=float32_ref>,\n",
       " <tf.Variable 'layers/2/kernel:0' shape=(512, 256) dtype=float32_ref>,\n",
       " <tf.Variable 'layers/2/bias:0' shape=(256,) dtype=float32_ref>,\n",
       " <tf.Variable 'layers/3/kernel:0' shape=(256, 64) dtype=float32_ref>,\n",
       " <tf.Variable 'layers/3/bias:0' shape=(64,) dtype=float32_ref>,\n",
       " <tf.Variable 'layers/4/kernel:0' shape=(64, 10) dtype=float32_ref>,\n",
       " <tf.Variable 'layers/4/bias:0' shape=(10,) dtype=float32_ref>,\n",
       " <tf.Variable 'beta1_power:0' shape=() dtype=float32_ref>,\n",
       " <tf.Variable 'beta2_power:0' shape=() dtype=float32_ref>,\n",
       " <tf.Variable 'layers/1/kernel/Adam:0' shape=(1024, 512) dtype=float32_ref>,\n",
       " <tf.Variable 'layers/1/kernel/Adam_1:0' shape=(1024, 512) dtype=float32_ref>,\n",
       " <tf.Variable 'layers/1/bias/Adam:0' shape=(512,) dtype=float32_ref>,\n",
       " <tf.Variable 'layers/1/bias/Adam_1:0' shape=(512,) dtype=float32_ref>,\n",
       " <tf.Variable 'layers/2/kernel/Adam:0' shape=(512, 256) dtype=float32_ref>,\n",
       " <tf.Variable 'layers/2/kernel/Adam_1:0' shape=(512, 256) dtype=float32_ref>,\n",
       " <tf.Variable 'layers/2/bias/Adam:0' shape=(256,) dtype=float32_ref>,\n",
       " <tf.Variable 'layers/2/bias/Adam_1:0' shape=(256,) dtype=float32_ref>,\n",
       " <tf.Variable 'layers/3/kernel/Adam:0' shape=(256, 64) dtype=float32_ref>,\n",
       " <tf.Variable 'layers/3/kernel/Adam_1:0' shape=(256, 64) dtype=float32_ref>,\n",
       " <tf.Variable 'layers/3/bias/Adam:0' shape=(64,) dtype=float32_ref>,\n",
       " <tf.Variable 'layers/3/bias/Adam_1:0' shape=(64,) dtype=float32_ref>,\n",
       " <tf.Variable 'layers/4/kernel/Adam:0' shape=(64, 10) dtype=float32_ref>,\n",
       " <tf.Variable 'layers/4/kernel/Adam_1:0' shape=(64, 10) dtype=float32_ref>,\n",
       " <tf.Variable 'layers/4/bias/Adam:0' shape=(10,) dtype=float32_ref>,\n",
       " <tf.Variable 'layers/4/bias/Adam_1:0' shape=(10,) dtype=float32_ref>]"
      ]
     },
     "execution_count": 18,
     "metadata": {},
     "output_type": "execute_result"
    }
   ],
   "source": [
    "tf.global_variables()"
   ]
  },
  {
   "cell_type": "markdown",
   "metadata": {},
   "source": [
    "### Train the network"
   ]
  },
  {
   "cell_type": "code",
   "execution_count": null,
   "metadata": {},
   "outputs": [
    {
     "name": "stdout",
     "output_type": "stream",
     "text": [
      "Start Training\n",
      "Minibatch loss at step 0: 2.5196492671966553\n",
      "Minibatch loss at step 50: 2.345115900039673\n",
      "Minibatch loss at step 100: 2.304835081100464\n",
      "Minibatch loss at step 150: 2.128697156906128\n",
      "Minibatch loss at step 200: 2.3309757709503174\n",
      "Minibatch loss at step 250: 2.0770184993743896\n",
      "Minibatch loss at step 300: 1.9396922588348389\n",
      "Minibatch loss at step 350: 1.7415745258331299\n",
      "Minibatch loss at step 400: 1.4793692827224731\n",
      "Minibatch loss at step 450: 1.3072078227996826\n",
      "Minibatch loss at step 500: 1.3959863185882568\n",
      "Minibatch loss at step 550: 1.0637691020965576\n",
      "Minibatch loss at step 600: 0.8932284116744995\n",
      "Minibatch loss at step 650: 1.1603634357452393\n",
      "Minibatch loss at step 700: 1.0794193744659424\n",
      "Minibatch loss at step 750: 1.0749881267547607\n",
      "Minibatch loss at step 800: 0.9509449005126953\n",
      "Minibatch loss at step 850: 1.2037523984909058\n",
      "Minibatch loss at step 900: 0.9221211671829224\n",
      "Minibatch loss at step 950: 1.0538842678070068\n",
      "Minibatch loss at step 1000: 1.0195680856704712\n",
      "Minibatch loss at step 1050: 1.1067957878112793\n",
      "Minibatch loss at step 1100: 0.7004566788673401\n",
      "Minibatch loss at step 1150: 0.9929528832435608\n",
      "Minibatch loss at step 1200: 0.9591132402420044\n",
      "Minibatch loss at step 1250: 1.0748896598815918\n",
      "Minibatch loss at step 1300: 0.8017247319221497\n",
      "Minibatch loss at step 1350: 0.9893766045570374\n",
      "Minibatch loss at step 1400: 0.7748233079910278\n",
      "Minibatch loss at step 1450: 0.7440031170845032\n",
      "Minibatch loss at step 1500: 0.8457036018371582\n",
      "Minibatch loss at step 1550: 0.8487087488174438\n",
      "Minibatch loss at step 1600: 0.9517516493797302\n",
      "Minibatch loss at step 1650: 0.9828910827636719\n",
      "Minibatch loss at step 1700: 0.6915007829666138\n",
      "Minibatch loss at step 1750: 0.8153323531150818\n",
      "Minibatch loss at step 1800: 0.641592264175415\n",
      "Minibatch loss at step 1850: 0.8317224383354187\n",
      "Minibatch loss at step 1900: 0.7522866129875183\n",
      "Minibatch loss at step 1950: 0.8305094242095947\n",
      "Minibatch loss at step 2000: 0.737614095211029\n",
      "Minibatch loss at step 2050: 0.731934666633606\n",
      "Minibatch loss at step 2100: 1.1619826555252075\n",
      "Minibatch loss at step 2150: 0.6333568692207336\n",
      "Minibatch loss at step 2200: 0.8283331394195557\n",
      "Minibatch loss at step 2250: 0.6642236113548279\n",
      "Minibatch loss at step 2300: 0.6629912853240967\n",
      "Minibatch loss at step 2350: 0.754626989364624\n",
      "Minibatch loss at step 2400: 0.8087960481643677\n",
      "Minibatch loss at step 2450: 0.8312720060348511\n",
      "Minibatch loss at step 2500: 0.6454563736915588\n",
      "Minibatch loss at step 2550: 0.7280600070953369\n",
      "Minibatch loss at step 2600: 1.025733470916748\n",
      "Minibatch loss at step 2650: 0.6721967458724976\n",
      "Minibatch loss at step 2700: 0.6158276796340942\n",
      "Minibatch loss at step 2750: 0.6802978515625\n",
      "Minibatch loss at step 2800: 0.555651843547821\n",
      "Minibatch loss at step 2850: 0.8133782744407654\n",
      "Minibatch loss at step 2900: 0.6412215232849121\n",
      "Minibatch loss at step 2950: 0.7198629379272461\n",
      "Minibatch loss at step 3000: 0.6247987747192383\n",
      "Minibatch loss at step 3050: 0.8235337138175964\n",
      "Minibatch loss at step 3100: 0.6964661478996277\n",
      "Minibatch loss at step 3150: 0.6822648644447327\n",
      "Minibatch loss at step 3200: 0.7476962208747864\n",
      "Minibatch loss at step 3250: 0.6824108362197876\n",
      "Minibatch loss at step 3300: 0.8548320531845093\n",
      "Minibatch loss at step 3350: 0.8085021376609802\n",
      "Minibatch loss at step 3400: 0.6138086915016174\n",
      "Minibatch loss at step 3450: 0.7496427297592163\n",
      "Minibatch loss at step 3500: 0.6316947937011719\n",
      "Minibatch loss at step 3550: 0.4779934883117676\n",
      "Minibatch loss at step 3600: 0.5475901961326599\n",
      "Minibatch loss at step 3650: 0.5619785785675049\n",
      "Minibatch loss at step 3700: 0.6139364242553711\n",
      "Minibatch loss at step 3750: 0.7235814929008484\n",
      "Minibatch loss at step 3800: 0.6483321785926819\n",
      "Minibatch loss at step 3850: 0.6438392400741577\n",
      "Minibatch loss at step 3900: 0.6981557607650757\n",
      "Minibatch loss at step 3950: 0.6191489696502686\n",
      "Minibatch loss at step 4000: 0.5417728424072266\n",
      "Minibatch loss at step 4050: 0.6133676767349243\n",
      "Minibatch loss at step 4100: 0.6074977517127991\n",
      "Minibatch loss at step 4150: 0.6020700335502625\n",
      "Minibatch loss at step 4200: 0.6061599254608154\n",
      "Minibatch loss at step 4250: 0.6366392374038696\n",
      "Minibatch loss at step 4300: 0.6255931258201599\n",
      "Minibatch loss at step 4350: 0.6685305833816528\n",
      "Minibatch loss at step 4400: 0.5470181107521057\n",
      "Minibatch loss at step 4450: 0.6011717319488525\n",
      "Minibatch loss at step 4500: 0.5170556902885437\n",
      "Minibatch loss at step 4550: 0.5234174728393555\n",
      "Minibatch loss at step 4600: 0.566944420337677\n",
      "Minibatch loss at step 4650: 0.5726351141929626\n",
      "Minibatch loss at step 4700: 0.52852463722229\n",
      "Minibatch loss at step 4750: 0.6452012062072754\n",
      "Minibatch loss at step 4800: 0.5174936652183533\n",
      "Minibatch loss at step 4850: 0.6013829112052917\n",
      "Minibatch loss at step 4900: 0.6369428634643555\n",
      "Minibatch loss at step 4950: 0.5558720827102661\n",
      "Minibatch loss at step 5000: 0.5782082080841064\n",
      "Minibatch loss at step 5050: 0.4393254220485687\n",
      "Minibatch loss at step 5100: 0.7826850414276123\n",
      "Minibatch loss at step 5150: 0.49870407581329346\n",
      "Minibatch loss at step 5200: 0.44160574674606323\n",
      "Minibatch loss at step 5250: 0.6024989485740662\n",
      "Minibatch loss at step 5300: 0.5843226313591003\n",
      "Minibatch loss at step 5350: 0.5518505573272705\n",
      "Minibatch loss at step 5400: 0.5871624946594238\n",
      "Minibatch loss at step 5450: 0.5421047806739807\n",
      "Minibatch loss at step 5500: 0.9150954484939575\n",
      "Minibatch loss at step 5550: 0.5261400938034058\n",
      "Minibatch loss at step 5600: 0.5832242965698242\n",
      "Minibatch loss at step 5650: 0.3903694152832031\n",
      "Minibatch loss at step 5700: 0.6866457462310791\n",
      "Minibatch loss at step 5750: 0.49323713779449463\n",
      "Minibatch loss at step 5800: 0.47565019130706787\n",
      "Minibatch loss at step 5850: 0.7190930843353271\n",
      "Minibatch loss at step 5900: 0.6614394783973694\n",
      "Minibatch loss at step 5950: 0.5651826858520508\n",
      "Minibatch loss at step 6000: 0.4810355305671692\n",
      "Minibatch loss at step 6050: 0.6619566082954407\n",
      "Minibatch loss at step 6100: 0.599723219871521\n",
      "Minibatch loss at step 6150: 0.5952939987182617\n"
     ]
    }
   ],
   "source": [
    "TRAIN_BATCH_SIZE = 128\n",
    "ITERATIONS = 10000\n",
    "\n",
    "import time\n",
    "start_time = time.time()\n",
    "\n",
    "losses = model.train(training_set_flat, training_labels_one_hot, TRAIN_BATCH_SIZE, ITERATIONS)\n",
    "\n",
    "end_time = time.time()\n",
    "print(\"Training time: {}s\".format(end_time - start_time))"
   ]
  },
  {
   "cell_type": "code",
   "execution_count": 46,
   "metadata": {},
   "outputs": [
    {
     "name": "stdout",
     "output_type": "stream",
     "text": [
      "(200, 2)\n"
     ]
    }
   ],
   "source": [
    "losses = np.array(losses)\n",
    "print(losses.shape)"
   ]
  },
  {
   "cell_type": "code",
   "execution_count": 47,
   "metadata": {},
   "outputs": [
    {
     "data": {
      "image/png": "iVBORw0KGgoAAAANSUhEUgAAAmQAAAFNCAYAAACuWnPfAAAABHNCSVQICAgIfAhkiAAAAAlwSFlzAAALEgAACxIB0t1+/AAAADl0RVh0U29mdHdhcmUAbWF0cGxvdGxpYiB2ZXJzaW9uIDMuMC4wLCBodHRwOi8vbWF0cGxvdGxpYi5vcmcvqOYd8AAAIABJREFUeJzs3Xl85HV9P/DXZ+6ZzJX72ns3y7K7sAsssLCAKApiVfDCC61Ya/WnxaO1/dX+am2rVlur1VZLUQFRRARRUUDuc9mTve8jm93c91yZe+bz++N7ZCaZJDPJTCbJvp6Pxz4gk+/MfDKbzbzy/rw/n4+QUoKIiIiIysdQ7gEQERERne8YyIiIiIjKjIGMiIiIqMwYyIiIiIjKjIGMiIiIqMwYyIiIiIjKjIGMiOYNIYRRCBESQiwp5rVEROUmuA8ZEZWKECKU8aEDQAxASv34L6SUD8z+qIiI5h4GMiKaFUKINgCfkFI+O8k1JillcvZGVV7n29dLRBPjlCURlY0Q4mtCiIeEEA8KIYIAbhdCXCWE2C6E8AkhuoUQ3xdCmNXrTUIIKYRYpn78c/XzTwohgkKIbUKI5YVeq37+ZiHECSGEXwjxX0KIrUKIj00wbpMQ4h+EEKeFEAEhxG4hRJMQYpUQQo659lXtcYQQnxBCvKyOYwjA19X7r8m4vkEIERFCVKsfv1MIsV99PV4VQqwvzqtPRHMJAxkRldu7APwCgAfAQwCSAD4HoAbAFgBvBfAXk9z/QwD+AUAVgHMA/qXQa4UQdQB+BeBL6vOeAXDFJI/zJQDvVcfmBfAJANFJrs90NYCjAGoBfBXAbwF8MOPz7wfwnJRyUAhxOYAfqY9fDeAeAL8TQljyfC4imicYyIio3F6VUv5eSpmWUkaklLuklDuklEkpZSuAuwG8YZL7PyKl3C2lTAB4AMDGaVz7dgD7pJS/Uz/3XQADkzzOJwB8WUp5Uh33PinlUJ5f7zkp5f9IKVNSygiUMJoZyD6k3gYAnwTwQ/U1SUkp71FvvzzP5yKiecJU7gEQ0XmvPfMDdfruPwBcBmUhgAnAjknu35Px/2EAzmlc25Q5DimlFEJ0TPI4iwGcnuTzk2kf8/GzALxCiMsA+ACsBfA79XNLAXxYCPGFjOstAJqn+dxENEexQkZE5TZ2ZdH/AjgEYJWU0g3gKwBEicfQDWCR9oEQQmDy0NMOYGWO20fU+zsybmsYc03W16s29T8MpUr2IQCPSSlHMp7nn6SU3ow/Dinlr/L4mohoHmEgI6K5xgXAD2BECHEhJu8fK5Y/ALhUCPEOIYQJSg9b7STX/xjA14QQK4VioxCiCkoFrgfK4gSjEOKTUKpcU/kFlN6xzOlKQOkf+4wQ4nL1eZzqGCum8TUS0RzGQEZEc81fAfhTAEEo1bKHSv2EUspeKIHoOwAGoVS/9kLZNy2Xf4fSjP8cgACUPjebVPYR+nMAX4bSg7YKk0+3al6DspihFsDTGePaDuDTAP4HwDCAEwBuL+yrI6L5gPuQERGNIYQwAugC8F4p5SvlHg8RLXyskBERARBCvFUI4RVCWKFsjZEAsLPMwyKi8wQDGRGR4hoArQD6AdwE4F1SyommLImIiopTlkRERERlxgoZERERUZkxkBERERGV2bzbqb+mpkYuW7as3MMgIiIimtLrr78+IKWcbF9DAPMwkC1btgy7d+8u9zCIiIiIpiSEOJvPdZyyJCIiIiozBjIiIiKiMmMgIyIiIiozBjIiIiKiMmMgIyIiIiozBjIiIiKiMmMgIyIiIiozBjIiIiKiMmMgIyIiIiozBrIxBkMxPLjzHDqGw+UeChEREZ0nGMjG6AvG8HePHsSBDn+5h0JERETnCQayMaorLACAwZF4mUdCRERE5wsGsjEq1UA2FGIgIyIiotnBQDaG2WiA22bC0Eis3EMhIiKi8wQDWQ7VTiunLImIiGjWMJDlUFVhwRADGREREc0SBrIcGMiIiIhoNjGQ5VBdYeGUJREREc0aBrIcqiosGB6JQ0pZ7qEQERHReYCBLIeqCguSaYlAJFnuoRAREdF5oGSBTAixWAjxghDiiBDisBDiczmuuV4I4RdC7FP/fKVU4ylEtVPbHJZbXxAREVHpmUr42EkAfyWl3COEcAF4XQjxjJTyyJjrXpFSvr2E4yhYVYUVADA0EseK2jIPhoiIiBa8klXIpJTdUso96v8HARwF0Fyq5ysmHp9EREREs2lWesiEEMsAXAJgR45PXyWE2C+EeFIIsW42xjOVKu34JAYyIiIimgWlnLIEAAghnAB+DeDzUsrAmE/vAbBUShkSQrwNwG8BtOR4jE8C+CQALFmypMQjZiAjIiKi2VXSCpkQwgwljD0gpXx07OellAEpZUj9/ycAmIUQNTmuu1tKuUlKuam2tvRNXTazERUWIwZ5wDgRERHNglKushQAfgLgqJTyOxNc06BeByHEFep4Bks1pkJUOS08YJyIiIhmRSmnLLcA+AiAg0KIfeptXwawBACklHcBeC+ATwshkgAiAD4g58hurFUVPGCciIiIZkfJApmU8lUAYopr/hvAf5dqDDNRXWFBbyBa7mEQERHReYA79U+AB4wTERHRbGEgm4B2wPgcmUElIiKiBYyBbAJVFRbEk2mMxFPlHgoREREtcAxkE9D2IhsMcaUlERERlRYD2QRGDxhnHxkRERGVFgPZBPQDxrk5LBEREZUYA9kEqnl8EhEREc0SBrIJcMqSiIiIZgsD2QQcFhNsZgOPTyIiIqKSYyCbRDWPTyIiIqJZwEA2Ce7WT0RERLOBgWwSDGREREQ0GxjIJtFcacepvhAGuDksERERlRAD2ST+7JrliCfT+M4zJ8o9FCIiIlrAGMgmsbLWids3L8Uvd57D8Z5guYdDRERECxQD2RQ+d0MLXDYzvvb4EUgpyz0cIiIiWoAYyKZQWWHBnTe04JWTA9h6arDcwyEiIqIFiIEsD7dvXgKLyYCXT/aXeyhERES0ADGQ5cFqMuLCRjcOdPjKPRQiIiJagBjI8nRxsweHOgNIp0f7yJ472oveQLSMoyIiIqKFgIEsTxc1exCKJXFmcAQA0B+M4c9+uht3vXS6zCMjIiKi+Y6BLE8XLfIAAA52+AEAr55S+skOdwXKNiYiIiJaGBjI8tRS54TVZMDBTiWQvXxiAABwtCt7GpOIiIioUAxkeTIZDVjX5MbBDj/SaYlXTg7AZjYgGEuiYzhS7uERERHRPMZAVoCLF3lxqMuPI90BDIRieP+mxQCAI93+Mo+MiIiI5jMGsgJc1OxBOJ7CvVvbAAB/ds0KGA2CfWREREQ0IwxkBbhYbez/7b5OrGlwYUm1AytrK3CEgYyIiIhmgIGsACtqnXBYjEilJa5bXQsAWNfkYYWMiIiIZoSBrABGg8C6JjcA4LoWJZCtbXSjJxDFYChWzqERERHRPMZAVqBNy6rgspmwaVklAGCtGtCOdLNKRkRERNPDQFagO9/Ugj9+/jrYzEYASoUMAPvIiIiIaNpM5R7AfGO3GNFssesfV1ZY0OSxsUJGRERE08YKWRGsbXKzsZ+IiIimjYGsCNY2utHaH0I0kSr3UIiIiGgeYiArgkavHWkJDI3Eyz0UIiIimocYyIrAYzcDAPyRRJlHQkRERPMRA1kRaIHMF2YgIyIiosIxkBUBK2REREQ0EwxkRaAFsgADGREREU0DA1kReB3qlGWETf1ERERUOAayInBaTTAaBKcsiYiIaFoYyIpACAG3zcSmfiIiIpoWBrIi8TosrJARERHRtDCQFYnbbmYgIyIiomlhICsSLwMZERERTRMDWZF4GMiIiIhomkoWyIQQi4UQLwghjgghDgshPpfjGiGE+L4Q4pQQ4oAQ4tJSjafUvA4zm/qJiIhoWkwlfOwkgL+SUu4RQrgAvC6EeEZKeSTjmpsBtKh/rgTwP+p/5x2P3YxANIF0WsJgEOUeDhEREc0jJauQSSm7pZR71P8PAjgKoHnMZbcAuF8qtgPwCiEaSzWmUvLYzZASCEaT5R4KERERzTOz0kMmhFgG4BIAO8Z8qhlAe8bHHRgf2uYFnmdJRERE01XyQCaEcAL4NYDPSykD03yMTwohdgshdvf39xd3gEXCQEZERETTVdJAJoQwQwljD0gpH81xSSeAxRkfL1JvyyKlvFtKuUlKuam2trY0g50hr8MCgOdZEhERUeFKucpSAPgJgKNSyu9McNljAD6qrrbcDMAvpewu1ZhKiRUyIiIimq5SrrLcAuAjAA4KIfapt30ZwBIAkFLeBeAJAG8DcApAGMAdJRxPSXkdSiDj1hdERERUqJIFMinlqwAm3f9BSikBfKZUY5hNrJARERHRdHGn/iKxmY2wmAwIMJARERFRgRjIishr5279REREVDgGsiLieZZEREQ0HQxkReR1mLntBRERERWMgayIlAoZj04iIiKiwjCQFZHbbmZTPxERERWMgayIvHYLfGFOWRIREVFhGMiKyGM3YySeQiKVLvdQiIiIaB5hICsibbd+rrQkIiKiQjCQFRF36yciIqLpYCArIg/PsyQiIqJpYCArIq1CxpWWREREVAgGsiLilCURERFNBwNZEXnt2pQlt74gIiKi/DGQFZFbr5Bxt34iIiLKHwNZEZmNBjitJp5nSURERAVhICuyGqcFfYFYuYdBRERE8wgDWZGtrHXiVF+o3MMgIiKieYSBrMhW1TvROhBCkscnERERUZ4YyIpsVa0TiZTEuaFwuYdCRERE8wQDWZG11LsAACc5bUlERER5YiArspW1FQDAPjIiIiLKGwNZkblsZjR6bAxkRERElDcGshJYVceVlkRERJQ/BrIS0AJZOi3LPRQiIiKaBxjISqClzoVIIoUuf6TcQyEiIqJ5gIGsBFbVOQFwpSURERHlh4GsBFrUQHaql4GMiIiIpsZAVgKVFRZUV1jY2E9ERER5YSArkVV1TpzsC5Z7GERERDQPMJCVSEu9stJSSq60JCIioskxkJXIqlonAtEk+oOxcg+FiIiI5jgGshJZUu0AAHT4uPUFERERTY6BrETqXDYAQF+AFTIiIiKaHANZidS5rACA/mC0zCMhIiKiuY6BrESqnVYYBNDHHjIiIiKaAgNZiRgNAjVOK6csiYiIaEoMZCVU57ail1OWRERENAUGshKqc9lYISMiIqIpMZCVUL3byh4yIiIimhIDWQnVumwYHIkhmUqXeyhEREQ0h+UVyIQQK4UQVvX/rxdC3CmE8JZ2aPNfncsKKYGBULzcQyEiIqI5LN8K2a8BpIQQqwDcDWAxgF+UbFQLhLYXWR8b+4mIiGgS+QaytJQyCeBdAP5LSvklAI2lG9bCUO/mbv1EREQ0tXwDWUII8UEAfwrgD+pt5tIMaeGoc2sVMgYyIiIimli+gewOAFcB+LqU8owQYjmAn012ByHEPUKIPiHEoQk+f70Qwi+E2Kf++UphQ5/7apxWCMEpSyIiIpqcKZ+LpJRHANwJAEKISgAuKeW3prjbfQD+G8D9k1zzipTy7fmMYT4yGw2ocljQyylLIiIimkS+qyxfFEK4hRBVAPYA+JEQ4juT3UdK+TKAoSKMcV6rdVl5wDgRERFNKt8pS4+UMgDg3QDul1JeCeDNRXj+q4QQ+4UQTwoh1hXh8eacereNPWREREQ0qXwDmUkI0QjgNow29c/UHgBLpZQbAPwXgN9OdKEQ4pNCiN1CiN39/f1FevrZUefiAeNEREQ0uXwD2T8DeArAaSnlLiHECgAnZ/LEUsqAlDKk/v8TAMxCiJoJrr1bSrlJSrmptrZ2Jk876+rcVvSHYkinZbmHQkRERHNUvk39DwN4OOPjVgDvmckTCyEaAPRKKaUQ4goo4XBwJo85F9W5bEilJQZH4qhVN4olIiIiypRXIBNCLIIyrbhFvekVAJ+TUnZMcp8HAVwPoEYI0QHgH6HuXSalvAvAewF8WgiRBBAB8AEp5YIrI9W7R3frZyAjIiKiXPIKZADuhXJU0vvUj29Xb3vLRHeQUn5wsgeUUv43lG0xFrRal7pbfzCGBblqgYiIiGYs3x6yWinlvVLKpPrnPgDzq5mrTLTzLPvZ2E9EREQTyDeQDQohbhdCGNU/t2MB9nuVQi0PGCciIqIp5BvIPg5ly4seAN1Q+r8+VqIxLSg2sxFeh5m79RMREdGE8gpkUsqzUsp3SilrpZR1UspbMcNVlueTOpcVnb5IuYdBREREc1S+FbJcvli0USxwV62oxqunBuAPJ8o9FCIiIpqDZhLIRNFGscC9b9NixJNpPLa/s9xDISIiojloJoFswe0ZVirrmz1Y2+jGQ7vbyz0UIiIimoMmDWRCiKAQIpDjTxBA0yyNcUF4/+WLcagzgMNd/nIPhYiIiOaYSQOZlNIlpXTn+OOSUua7qSwBuGVjEyxGAx7ePeHhBkRERHSemsmUJRXA67DgxnX1+M3eTvjC8XIPh4iIiOYQBrJZdPvmpQhEE7j868/ijnt3YuupgXIPiYiIiOYABrJZtHlFNX7/2Wtwx5bl2Nfuw7/84Ui5h0RERERzAPvAZtn6Zg/WN3vgC8fx0on+cg+HiIiI5gBWyMrE67DAH+FGsURERMRAVjYeuxnRRBrRRKrcQyEiIqIyYyArE6/DDACskhEREREDWbl47RYAgI/nWxIREZ33GMjKRKuQcU8yIiIiYiArE49dDWScsiQiIjrvMZCVid5DxilLIiKi8x4DWZl4HWoPWYRTlkREROc7BrIyqbAYYTIINvUTERERA1m5CCHgdZjZQ0ZEREQMZOXksZvZQ0ZEREQMZOXkdVjYQ0ZEREQMZOXktZvZQ0ZEREQMZOXkYSAjIiIiMJCVlcdh5lmWRERExEBWTl67BaFYEolUetqP8dF7duLfnzpWxFERERHRbDOVewDnM323/kgCNU7rtB7jcKcfBlHMUREREdFsY4WsjEYPGJ/etKWUEr5IAsMjXKlJREQ0nzGQlZF2wLh/mltfhGJJpNISQ2EGMiIiovmMgayM9PMsp1kh0+43PMKFAURERPMZA1kZee0zm7LUVmiGYknEkqmijYuIiIhmF5v6y0jvIRuz9YWUEl/53WEc6vKjPxhDVYUFj3zqalhM2fk5M8j5wgnUu42lHzQREREVHStkZeSymSEExu1F1h+M4WfbzyIcS2F1vQsHOvx4+kjPuPtnHrs0xMZ+IiKieYuBrIyMBgG3zQz/mKb8vmAMAPDFG1fjxx/dhEWVdjyw/dy4+w9nVMi40pKIiGj+YiArM6/DPG7KsjcQBQDUu20wGAQ+eMUSbGsdxKm+UNZ1mUGOKy2JiIjmLwayMst1wLhWIatzKZvF3rZpMUwGgQd3ZlfJfKyQERERLQgMZGXmcVgmrJDVqoGs1mXFTesb8MjrHYgmRldT+iIJ/ZrBaQSy4ZE4jnQFpjt0IiIiKhIGsjLz2nP3kFVXWGA2jv71fPjKJfBHEnj8QLd+my+cQHWFBR67eVoVsrteOo333fUakjM4S5OIiIhmjoGszHL1kPUFYnrlS3PVimpUOszYfXZIv80ficPrMKOqwoKhaexl1heMYSSewun+kekNnoiIiIqCgazMvHYz/JEE0mmp39YXjKLebcu6TgiBJq8dPf6ofpsvnEClw4JKx/QqZAE1CB7p9k9z9ERERFQMDGRl5nFYICUQjCb12/oCMb2hP1OD24aeQEz/2BdJjFbIphHItP3PDneyj4yIiKicGMjKTD8+Sd3kNZ2W6A/FUOfOEcg8NvT4IwCU3fz94QQ8dgsqHRYMT7HtRSotxx2vpAeyjMb+/mAMj+3vmv4XRERERAVjICsz/fgktQdscCSOVFqOm7IElArZcDiBaCKFSCKFeCqdVSGTUo67DwBEEyl88O7t+PCPdmTdPhrI/Pp9f/DCKdz54F74uK8ZERHRrClZIBNC3COE6BNCHJrg80II8X0hxCkhxAEhxKWlGstcNvY8y76g0iOWc8rSo4S03kBUD3BeuxmVFRbEkmlEEuMPGE+lJb7w0D7sbBvCmYHs5n1/JAGXzYRANImO4QiklHj2aC8AoDujV22m/OHsHjkiIiLKVsoK2X0A3jrJ528G0KL++SSA/ynhWOasSocFADCgbgbbp/aI1brGV8gaPXYAQI8/I5A5zKhSH2NsH1kylcbXHj+CJw/1YGm1A76MxQPRRAqxZBpXLq8GoExbnugNoWNYmRLV9kLTrn3q8PizNPPhC8dx9Tefw+/2d07r/pOJJ9P44kP70DbAVaJERDS/lSyQSSlfBjA0ySW3ALhfKrYD8AohGks1nrlqcZUDFpMBx3uDAEYrZPU5e8iU23oCUb3nzGO3oLJCCWTDI0pIO90fwt89egBXfOM53Lu1DXdsWYaPbF6KVFrqiwcCUeXaK5dXwSCAI11+PHesV3+uzED22P4u/MXPXp9W8Nnb7sNIPIW2gXDB951K2+AIHt3biVdPDRT9sYmIiGaTqYzP3QygPePjDvW27tyXL0xmowEXNrhwqFPZemK0QpYrkI1WyCzqprFehxkWkwAwep7lFx/ahxO9Ibx5bT3+5KIG3Li2Ab/Zq1SohsNxeBxmfcuLeo8NK2qdONIdwHA4gTUNLhzrCaLHP7qas31ICVMDoRiW1VQU9PXtO+cDMNqvVkxalTAUS05xJRER0dxWzkCWNyHEJ6FMa2LJkiVlHk3xrW3y4ImD3ZBSojcYRaXDDKvJOO46p9UEp9WEbn8UbnV1ptdhhtWkhLPhkTgi8RQOdQXwqTeswJduWqPft7JCuX4oHMcyVOgByWM3Y12TGy+d6Ic/ksDnbmhBXzCGnowKWac6jTn2zM187O/wqfct/iIBbWVpKMpARkRE81s5V1l2Alic8fEi9bZxpJR3Syk3SSk31dbWzsrgZtO6Jjf8kQQ6hiPqHmTj+8c0ytYXmU39FlRVjPaQHeryI5WW2Li4Mut+Wq+aFozGBjJfOAEpgTdfWI96tw19mYHMpwSyqbbWGEtKif3taiArQYXMP0sVsvahMPapXwcREVEplDOQPQbgo+pqy80A/FLK82q6UrO+2QNAaazvDebeg0yjbA6r9JBZTAbYzAa4bWYYhBKYtCnCjYu9Wfer1Bv/lRCTGcjWNirPX++2Yl2TGw1ua3aFzDe9Ctm5oTCG1ftMp7o2FS0gBktcIfv208fxlw/uKelzEBHR+a1kU5ZCiAcBXA+gRgjRAeAfAZgBQEp5F4AnALwNwCkAYQB3lGosc92aBheMBoHDXX70B6JYVVsz4bUNHhtePTkAfzgBr90MIQSEUALX0EgcrQMjaPbax/WgaY3/eoVMDUhumwneJjcA4E1r6iGEQL3bhoNqT1sqLfXjmgqtkGlVpVV1ztL0kEW0ClnxHztTty+K/mBs6guJiIimqWSBTEr5wSk+LwF8plTPP5/YzEasqnXiYKd/wl36NY0eG/pDMQyE4nrVC1AC13A4jv3tfmxc4h13P7fNBKNB6KEqoFaV3HYzzEYD7rr9UlyyRJnmrHfbMBCKI55MY3AkhqS6VcZwgVWuved8sJuNuHxZFf54qPjFTy1clnrKsjcYRTSRRiSegt0yvrePiIhoprhT/xyxrsmNnWeGkEjJnJvCaurdNqTSEqf7Q/Com8oCQJXDghO9IXT6Iti4aHwgE0Kg0mHOmrKssBhhVldrvnV9o346gLYBbX8opjf0A4U35u/v8OGiZg9qnJZxB6gXg77KsoRTllJKfeXrEE8vICKiEmEgmyPWNXsQjis77ec6NknTqIaltsER/RxMQFlFeaovBAA5K2QA4HVYspr6PRn3z9SgPn+PP6r3j3kd5oL6wOLJNA53BbBxiRceuxlpCYTixQ1Oeg9ZCStkwVhSPwFhKMRARkREpcFANkesU/u4gNzHJmm0sCbl6LFLAPSVlkaDwPomT877Vql9ZoASyNwTBDLtOXoDo4FsXZO7oB6yo90BxJNpbFjk1YOfv8iN/bNRIdOqYwArZEREVDoMZHPE2oxAlk+FDFAqXhqtn2xNg2vCPqfMKtdkFTLtlIAefxSdwxFUOsxo8tgLqpBp+49tXOLVx1nslZazsTFs5vYfwyMMZEREVBoMZHOE22bG0moHgNy79GuqKiz6Lv2ZgUqrkI3d7mLsfbUqT2CSCpn2HL3BKLp8ETR57fqigXztahtGrcuKJo8t4wD14gYa7fHC8RRSJTq8vC9jdeXYs0KJiIiKhYFsDlnf5IHHbobNPPFKPiEE6tUzLTOnLLUK2WSBTOshk1IiMEmFTAiBOrcVvWoPWbPXDq/DjFhSWWk4lUQqjReP9+H61bUQQui9bsWskEUTKUQTadQ4lddiOlWy3+ztwMsn+ie9JvNMTwYyIiIqFQayOeQLb1mN775/w5TXNbqVMy299tEpy/XNHjR5bNiyauI9zKoqzEikJEKx5KRTlsDoBrSdw2qFTJt2zKPKtfPMEILRJN6yth4A9NWgxdytXwt3iyqV12I6gew/nj6BH754atJr+oIxOCxGVGdUF4mIiIptXpxleb5YVefEqjrnlNfVq31kmRWyCxpceO3vbpj0flovV38whpF4atJAVu+xYdvpQYzEU1hUaUel+lzDIwk0qoecT+SZI72wmgy4pkUJh6NN/cULNNr06eIqB/a1+6bV2D8Yik9Z8esNRFHnssJsNLCHjIiISoaBbB7SGvsnC1S5aFWus0PhKe9f77LpU3RNXntGY/7koURKiWeO9OKaVTVwWJRvL6vJCIfFWNQpSy2QaRWyYLSwxw7Hle0sIokUBkMxVDtz9+31BWOoUxdZcMqSiIhKhVOW85AWyLTjkPJVVaEEsLMDIwAmD2QNntGAovWQAVPv1n+sJ4hOX0SfrtR47eaiTllqW2gsrlQWQhS6F9lgxp5i2v5tufSpFbLqCgsDGRERlQwrZPPQuy9ZhAqrCc3eyacOx9KqXG2DSoXMbZ/4rz9z643mSru+inGqlZbPHukFALzpwrqs2z0OS5ErZGN6yAqcshwIja6ePNEXwpUrqsddI6VEbyCGGy60IZJIFXyWJxERUb5YIZuHPA4zbtu0uOD7VemBLI8KmRrIrCYDqisso1tXqKFESokTvUEoR5KOeuZoLzYu9qL/OhusAAAgAElEQVTOlb2Xmtduhr+I215oiwsWVykVskKb+jOrXad6gzmvCam79Ne5rKhyWDAcLv7xT0RERAAD2XnFbTdDCODsYB49ZGoga/baIYQY1we2vXUIN373ZXz76eP6fV4/O4QDHf5x05WAsgDBX+RVllaTATVOJWQWWiHTpixrXVac6M09Zdmr7tJf77ahssKCVFoiWMJTAYiI6PzFKcvziNGg7AnWPqRNWU7WQ6YEsqaMadFKtUoEAIe7/ACAH7xwGpUOC9Y2uvGJ+3djabUjZ/XOYy/sLMyp+MJxVDosqFAXDhTaQzYwooStK5dXYXvrUM5r+oLKHmR1LisklMrYUDiedag7UaF+vv0sKqxGvOuSReUeChHNIQxk55nMUDVZhcxmNqLWZcWyGod+m3L0klJZOtkbQlWFBZtXVOFrjx+FxWjA8poK/OzPrsh50oDHoTT1SykhhJjx1zEcTsDrMMNgEHBaTdOqkFVYjLh4kQd/ONCN4ZH4uEUS2jmWdW4b4qk0AGBoJIblNRUzHj+dv36+/Sw8djMDGRFlYSA7z1RWWICBEdjMBlhNE58IAAAPfOJKVGeEFK/DrDe2n+wLoqXOie++fyPiyT0IRJL4349cNuHKT6/dgngyjWgiPeFZmz988RRW1FTgresbp/w6/GogA6AEslhh1Tdtq4uWepf69YRwxfKqrGu0Clm926rvVzY0UtzzOOn8E4wmi/JLCREtLAxk5xltg1e3beppt9VqWNF4HRZ0+wKQUuJkXwi3bmyG1WTEj//08ikfK/M8S7tl/OrQdFriv547hTq3FTeta9DfsL7++BGcGRjBp96wEpuWjQam4XAcK2uVTXSdNlPBTf2DI3FUOy1oUTfiPdkXHBfIegMx2M1GOK0mVFZoG+NypeX5ZuupAVy5vAomY3FabgNF7KUkooWDTf3nGW1z2EI3lVXuq1TI+oIxBKNJtNRPfaqAZqrzLDt9EUQSKZwdDGPPOZ9+209ePYPnj/XhvXdtw+0/3qEvDPBFEnpIclpNWc32Uspxqz/HGgjFUV1hRZPHDofFiJM5Gvv7gjHUu60QQuiHty/045Na+0N5nVd6vjjeE8SHf7wDzx7tK8rjpdISwVgSgQI3Mqa5Y++5YfxuX2e5h0ELEAPZeUabUpxeILPAH0ngeI+yTUQ+xzxp9PMsJwhkJzK2nnh0TwcA4MEd5wAAT33+OvzNWy/Aq6cG8PiBbkgp4QvH4VHP8nRlVMjiyTQ2/+tz+PWeyX9gDoZiqK6wwGAQaKlz4mTf+K0vlGOTlMUNdrMRVpNhQW8OG0+m8SfffxX3vdZW7qHMGV2+CADll4Ni0HodQ7Ekt1CZp+7Z2oavPna43MOgBYiB7DyjTR1OJ5B5HRakJfD62WEAQEuda4p7ZNxXDU8T7UV2Ut0t/40X1OIPB7oRiiXxy13n8KY19Wipd+HTb1iJOpcV21oHEY6nkEhJffrVZRtt6u/2R9AbiGFH6+CEY0mnJYbUKUsAWFXnylkh6w/GUOdWFihoVbJiB7Jf7Wqf8oDz2dIfiiGSSKFjOFzuocwZ/cFY1n9nSquMSVn4ymCaG3zhOIbDCVaSqegYyM4zVTOcsgSAXW1D8DrM+h5g+fDmUSFrcNvwp1cvgz+SwN88sh8DoTg+ctVSAEogumplNba3DuoLC7Kb+pU3t85hpZJxcpLjkALRBJJpqZ9fubreib5gTD+OSZNZIQOAqgpL0XvIfrHzHO559UxRH3O6egPKIobMUwzOd/3qa6Et8JipzKlK9pLNT1rbRLe/OFVTIg0D2XlGOz5psj3IJqL1n+0950NLnbOglWKjTf2534RO9YXQUu/ENatqUOuy4omDPVhW7cC1q2r0a65aUY3+YEyv0Glfi9Nq1itkHWogO9UXmrCPbEDdFFYLlNrihSPdAf2aUCyJcDyFevfoFh5VFZai95CdGRjBQCg+J6ZC+/RAVv6xzBVaOC1ahSwyWhUr5kbJNHu0Xyq7/cUJ6UQaBrLzjNacPp1ApvWBRRIpfbuIfNnNRliMBvjCCSRTadx21zY8vLsdgDKFeLI3hJY6F0xGA27d2AQAuH3zUhgMo6Fvs3re5B8P9QAYDYhOmwmhuNKTo023hWJJ9ARy/8DUwk91hRK2Ni72AlBOGtD0qL/91mUEskpHcacsh0fi+pvyZAecj/Xl3xzE04d7ijYOjXYywUQVsh5/FP/8+yOIJ9NFf+65qlRTlmP/n+YPbS/GriL1FRJpGMjOM5Uz6CHTAhAAfbuIfAkh4HEo51k+e7QXO9uG8OBOpWlfW2Gprdr82JblePelzbjt8uwd/5dWO9DoseHF4/0ARqtuLqsJUgIj8SQ6Mn5I5uoLA5SGfgB6D1llhQWr653Y1TasX6NV4S5sdOu3FbuH7Ix6piiAnIsKckmk0nhw5zn8dFtb0cah0acsJwgfTx/pwT1bz2DPueGcn1+Iil0hy1wNnFkto/khlZYI6P2qrJBRcTGQnWcWVzlwxbIqbFpaWfB9KzOODCqkoV/jsSvnWf5s+1kAwN52HwZDMT2MrFYDWbPXju/ctnHcXmlCCFy1ohqRhNJMq/eQ2ZTt9EKxJDqGI1ih7qQ/UdVpQKuQZfTAbVpWhT1nh5FSV769cnIAdS4rLsioBFY6LAhGk0ikpq4Q9QWiGJmiabttICOQTRAex409FIOUwO62YUQTxW0q1ipkI/FUzoZlrT/vYIe/qM87l2lBbHAkntff+1Qy+8ZYIZt/ghl/Z3O5h6zTF5kTbRBUGAay84zNbMSvPnUVNqjTdIVw28zQZhAL2YNM47Wbsb/dj62nBvHWdQ2QEnjheL9+uPeqPEKeNm2pPJ7WQ6YGsmgSncMRXLzIg0qHecLGfq1CVpVR8btiWRWCsSSOdgeQTktsPTWAa1pqsvrkqtQAN5xHH9kHfrQd33zy2KTXtA2MwCCUKly+U5ZaaIol09hztriVqszG9VzTltrWD/s7fEV93rlsIBSHxaT8mBwsQm8dm/rnt8xFSV2+uVkhk1LiQz/ajn/5w5FyD4UKxEBGeTMYBDx2M1w2E+pynFc5Fa/DjE5fBGajwD/fug71biueP9aLk70h1LuteU2jXrVSCWQVFqP+RqlVyHyRBHoCUSyucqClzoVTE0wDDobiqHSYs3Zev1zdpX9X2xAOdwUwHE7gupbarPtpAW6q3zxTaYmzg2EczVgkAAB/+8gBfP3x0R+SrQMjaK6048JGV95Tlr0ZfXGvnhrI6z756g1EYTMrr8lkgexg5/lRIYslU/BHEljToPyiUIyVloFIEg6LEUIwkM1H2qIkq8mAnjk6Zdk+FMHZwTDOZrRE0PzAQEYFqXRYsLreNa2z+LSNXG9e34g6lw1vWlOHl08M4HCXf9wxTRNZXOVAs9eur7AElB4yQJmiTKUlmr12rKxz4kRv7pWWgyMxfcsLTbPXjmavHbvahvDySaVHbUvGCk8A+skAUwWy4XAcqbRE22D2fl7PHu3Fb/Z26WNqGxzB8honWupc6A3E8lp116dOoS2pcmDr6Yn3WpuO3kAMaxqUnrlcKy27fBEIAZwdDI/bImQh0ipia9U+Qu2w+ZkIRBPKLzVWk96LVGrJVLoo06002tB/QYMLXXN0ynJbq/KLWm8Rvl9pdjGQUUE+df1K/MV1K6Z1X63nS9tb7IY19QjFkjjWEyxo1//bNi3GtS2jYUmrkB1TK1KLKh1oqXPCH0lgIBRHOi3xiZ/uxq92Kas6lWOTxu+htmlZJXa1DeOVk/24sNGN2jFVQG2F6vAUB4z3ZaxW1HpOfOE4BkfiGAjF0DYYhpQSbQNhLK926Askxk5bRuIpvPU/X8azR3ozHjsKgwDesaERBzt8Rds6IZpQqkHrmrRAlv3DPJ5Moy8Y03sP53uVLJpIYXvr4KRHbGn9Y2vV16S/CPuzBaMJuG1muO3mWauQff6hffjsL/bMynMtdNq/twsb3AhGkwWfoTsbtrcqq8V7A1GeBjHPMJBRQW7btBg3rmuY1n3ffnGjcki4+qa+ZVUNrOq0Y74VMgD43Jtb8M33XKx/rPWQHVWPdGqutOs9bif7gnj2aC+ePdqLH754ClJKDIZiqHGOn3K9fFkV+oMx7DgzhOtaasZ9vla9z3NHeyd9I8+c2jqrVslO949OH+w6M4SBUByhWBLLair0sY6dYn3+WB+O9QSxLePUgd5AFDVOK65rqUVaAtsnOZGgEFqI1MLH2JWWPf4opARuUv/uD3SO7yMLRBPz5vD13+7txAfu3o57trZNeI0WSi8sZoUskoTbboLbZp61pv6j3QG8enJAX7BSTKFYsuiLS+YyrYdsTaPy86q7TFtfxJPprPYFjZQS204PwiCAZFpicJ78eyQFAxnNmkuWVOL/3rxGn+60W4z6tGCh22hkclmVypt2xmaT16avAj3VF8IPXzwNgwDaBsPKys6MY5MyXaH2kUkJXJMjkFU7rfjsG1fh0b2d+Penjk84nr6MMNOm9nGc7leqXyaDwM62If32ZTUVWFTpgNVkGLfS8vGDXQCAc0OjU5+9gRjq3TZcsqQSdrMRrxWpj6xXDZFLqhxw2UzjfpB3+JQxXNjoxrJqx7iVloFoArf+YCs+cf/uooyn1LRNgL/++BG8dKI/5zVahazRY0Olw4z+UBF6yPQKmWnWtr3oC8QwEk/l3adYiI/dsxNffvTgtO77wrE+fOKnu4tWZYrEU7jtrm0lXQWsBbIL1L7CrjL1kd2z9Qyu+7cXxh1z1jYYRk8gimvU/tdcoW2+6QtGs1a3LmQMZFRWt17SDLfNpP+Am44KqxGAMp1Q77bCajKi3m2Fy2rCgzvbsa/dhy/dtAZWkwEP7+6AL5zQpx8zrap1wusww2oy4PJlVTmf669uXI0PXbkEP3zxNH78SmvOazL3rNIqZK39IzAbBd6wuha72oZwRq2YLa+ugNEgsLLWmbUqdCSWxPPH+gAA7RmBrC8YQ73bCovJgMuXV43rI5NSFrTJrEb7wV3vtqHWaR03PaetKGvy2nHRIi8OZLzppdMSX3xoH1r7R3Cgw4dYMv+KyZ5zw2XZsf54TxBrG91YXe/CZ3+xRw/MmbQKWY3TilqXtWg9ZG67GR777FTIwvGkfmbmvnPFXR0bjCaw59wwjvdOL+j98VAPnj3aiy89vH/SinO+TveHsLNtCDvOFLe3MpMvEofLasLiSgeA8lXIdrcNIZZM4wcvnM66fZv680DbXHuuLjwoxEd+vBNffez8WDHKQEZl9c4NTdj7lRvhshW+Ua3GZDTAYVFCWbPXDkDZs2xVvRNHuwOocVpxx5ZluHFdAx7d0wEA45r6AWUV6S0bmnDrxmbYzMaczyWEwL/csh5vWVuPbz55LOdvbv3BGFw2E+rdVpxR9xpr7Q9haXUFNq+oxtnBMHa2DcFkEFhUqYy3pd6ZFaSeP9aHaCKNtY1utA+F9TesvkAUdW7lfM1rVlXjVF8oK7A9frAbb/7OS3ju6GjfWT60BuB6lw01Tuu4KUttD7JGjw0XN3vQ6YvogeX7z5/Es0f7cG1LDRIpmdeeaum0xDefPIZ3//A1fOuPk28PMh2ptMTH79uFl3NUv6SUONEbxIbFXvz4TzfBZBD4xuNHx103EIrDZTPBZjaizmUrSg9ZIJKEy6ZMWc5GEM0MkXuLHMj2tfuQltPfILV1IASryYAnD/Xghy+envoOU9B2zs9n/62+YHRaU63+cAIehxkNHhuEKF+F7GCnHwYBPLy7HecyFg9tbx1ErcuKq1cqFf6JTiuZL1JpidP9oaxTVDL1B2P4i5/tzvoZOJ8xkFHZGQ2Fr9gcS+sjW6T+5gqMToN+/JplsJmNePclzYipx/7U5KiQAcA/3bIe33rvxTk/lznej29ZjmRa6g20mfqCUdS6rFhaXaEvPT/dH8LK2gp9e40nDnZjSZVD33qjpc6JTl9En755/EA36lxWvPvSZozEUxgaiSOeTGNwJK5vOfK2ixohBPDonk79uR9SFy78+1PHC2ro7QtEYTUZ4LabUO20jGvq7/JFUOO0wmY24qJFHgDA/nYfvv/cSfznsyfx7kub8bVb1wOYuuE/Ek/h/zywB3e9dBpumwkvHusrSoUk09nBETx/rA9P5Thiqj8Uw3A4gQvqnVhU6cA7NzThtdOD4yp7/cGYvrCjGBUyKWVBTf17zw3rp1lMl1b5rLAYsa+9uIFst3qyxdBIfFrhprV/BLdubMY7NjTh208fn/H0uxYMp9ovbnvrIN7wby/iO8+cKPg5/JEEvA4zzEYDap3WslTI+oJR9AZi+PNrV8BgEPiv508CUPvHWgdx1Ypq1DgtMIj5P2XZH4whqa5Yz1VR/tErrXjqcC/+56WZB/q5gIGMFgRtpWWzWnECgKtX1qDZa8eHr1RWdV7bUqMfKJ6rQlaIS5d64bAY8crJ8RWYvkAMdS4rlldX4MxAGIlUGueGwlhR68S6JjfsZiPC8RSWqScKAKOb4p7oDSIUS+KF431420WNWFqtXNM+HNErNPVqhWxRpQNXr6zGw6+3I52W6PZH8OqpAaxtdONYTxCPH+zO++vpDURR77ZBCKFUyMa8qXX6Ivpru67JDSGAz/9yH77zzAncsrEJ33jXRXr/2aEpAtldL53GU0d68A9vX4u/vXkNuvzRaU2zTuaY2k+YaypS6zVcrU6TX9tSi0gipR+XpenPWPxR51KmcWcSHEfiKaQl9Kb+kXgKSXU7iu2tg+POJ/359nP46mOHZ/ScvWql8/oL6nCiL6hXdF841ocHdpyd9uMCyDpCq9CpMX84gcGROFbUVuBb77kITosJTxzK//s1F20biska2Xe1DeHj9+1CJJHKOikjX75IQt+QutFrL8vxSdq/rxsurMftVy7Fo3s78YL6y0d/MIarVlbDZDSg1mWd91OWnb7RyteRrux9Hf3hBB7YfhYmg8CjezrmzYKiyTCQ0YLg0itko4Hs1kua8erfvlHfcNZkNOCdG5oBIGdTfyGsJiM2r6jGKyfH/1bfF4yhzmXDspoKDIRiONYdRCIlsbLWCbPRgEuWKKckLKseDWTrmtwwGwU+9KPtuP3HOxBLpvEnFzdiSZVS8Ts3FEaf3uc1Gibfd9lidAxHsP3MIB7d0wkpgR98+FKsrnfiu8+c0N/wp6IsFlAet8ZphT+SyDpEvMsXwSJ1OthlM+OCehdSUuI/3rcB//n+jbCZjRBCYH2TZ8pAtqttCOubPPiza5bjDauV5uOJGuunS9sC5VTf+DddLZBpx2JtXlkNk0GM+7scGFMhiyfTM2rE1ypiWlM/MHq25feePTnuZIfBkRhiyXTOPeHypX3P3LReORnjYIcf0UQKf/PrA/jmk8emHfZSaYm953xYUat8Dxe6J9fpASUor6h1wmExocFjm/F5od1qn+PQSO7HOdodwMfu2YkGjw3rm91Zi2/y5QvH4VG372ny2MqyF9nBjgCEUH5mfOr6FbAYDbjjvl341M/3QAjganXz7Aa3TQ/k81XH8OjrO/bnyv3b2jAST+Hb79uAaCKNB3fNrJo8FzCQ0YKgV8i89qzbx25g+6nrV+BLN12A5RlhaLqubanBmYGRrP4FKSX6g0qFbFm1Eqa05nztzUtbMLC8ZnR6dXGVA4986mrctmkxOobDWF5TgcuWVOoBs30orPd51bls+v1uWtcAl9WER3Z34Nd7OnDFsiosr6nAF99yAVoHRvDo3tHpTAB45PUO/OuT4/uleoOjvWk1ruwTCaSU6PRF0OQdfd57PnY5Xvjr6/GeyxZlvcYXLfLgaE9wwo1IU2mJAx1+bFSP7lpU6cCqOmdWICvG9KW2BcpAKDZuE9sTvUHUOC16ldRpNeHSpZXjqp39oZi+1YkWzGayW7825eK2m/VzWrXbzg2Fx00Ta1NvY1fSFaIvGIPVZNC3cdnb7sMjr3egPxhDMJqcdo/R8R6lkvuOi5Xm8e4CjxFqVRe1aP8m6tzWaQWkTN1TVMh+v78LsWQaD/75ZlxQ79bDaiH8kQS86i94jR47un3Rok+3T+Vgpx8raipQYTWhzmXDY5/dgns/djnuu+NyPPaZa/Sqep3bht55XiHTFhN5HWYczqiQReIp3PtaG960pg63XtKMLauqcf9rZ+f9BsgMZLQg5Oohy6XOZcNn3rgKhiL0rV2rLi1/OeONPBRLIpJIodZl1acknz+mNNivrFF62q5brbw5rm3yZD3ehsVe/PMt67H9727AU5+/DgaDQIXVhBqnBe1DYT0M1GVUyOwWI96xsQm/3deJ1v4RvOcypQJ407p6rG1042fbsqel7t16Bv/7UitOjlkZp02zAtCn6bSAMDgSRyyZzgq7TV67PnWaaV2TG/FkesLG/tb+EEKxZNZZqm9YXYsdrUMIx5U9rW79wVZ8+TfT20pBc7wnCLca0k+NmbY83hsat+/ddS01ONQZ0M85jSZSCEaT+hS3FsjyqeL0BqJ4YMfZcW/UWjXMZTPBrb6pByJJxJNpdPsjCESTWX1sWiDOrBIUSpuK9josWFFTgd1tQ7jrpdN61VirFubj2SO9+vVak/XbL24EUPhB2639IZgMQq8A17lmXiHT3ryHJqgodvkiaPDYUO+2oV4NgIX0WUop4Qsn9A2um7w2RBKpWdu+RHOo04+Lmkd/drTUu/DGNXW4/oI6vb8TUCpk872pv9MXhsduxqalVVm9qQ/tOoehkTg+ff1KAMDHtyxHTyCKPx4a3zM6nzCQ0YLgVPciy5yyLLWVtRVo8tjwyonRqS7tt/w6txVL1QrZ/g4/apwWfarjsqVVeOVv3ojL1A1yxzIZDfo5nYASMtuHw+gLxGA0CFRXZPe/ve+yRUhLwGY24G0XKW+QQgi8eW09Dnf59dV8wWhCP1/z3tfa9PuHYsqO41rA0gKZ1rOmrbBs8k792mpvFBNNW2qN5RsXj75xvGF1LeKpNHa0DuFbfzyG/R1+/GLHOTwxRQ/cfVvP4J9/P345fCiWxLmhMN66XtnE9nRGf1o6LXGyNzgukGnhWjsfVAujWhDTqpL5VHH+4+nj+PvfHBp3uH3WlKUaFv2RBLp8EWi5ILMqqY1hokD2+/1d+NHLrfjdvk4c6wnkvKY3ENWD9sYlXrxwvB8dwxH8vz+5EIBSLRxLSomvPnY4a2VbMpXGXz64Fx+9ZweGRuJ4/ewwal1WrKpzoqrCktVLFU2kpmzyb+0fwZIqB8zqopZalxKQZjKF2huIwmQQCMaSObde6fRF9F8q6lxWJNMSw+H8p4NH4ikk01IPs40e5bFmc9qyPxhDTyCK9c2eKa9t8NjgjyRKtnFvIpXGrrbcqx+LpXNY+Ttb3+zG6f4QwvEkUmmJn2w9g01LK/XZhjdeUIflNRX42faZ9UWWGwMZLQir6pxY0+CacLuKUhBC4NqWWmw9PaD3avVlTCs6LCa9L2tFTfbGt4urJq/kZVpS5cC5oTB6A1HUOq3jVqVuXOzFhsVevOfSRVnbh2xeUYW0VPYsAoDXzw4jLZUg+eieDv1cvrG9aVpVSNv6QjtUvDmPsLusugJOqwmHuiYOZC6rKev1uGJ5FWxmA77//Encu7UNt29egosXefD3vzk46RThT7edxX2vnRnXzKtVcd58YT0sJkNWhazTF0E4ntIPDNesb/bA6zDrfWRatUZv6nfnVyELRBP4/X4lSG4bs0dc5pSlFs4D0UTWxr/aNGU4ntJXBLfnmLLs8kVw5y/34utPHMXnfrkPN3/vlZxvjn3qRsIAcIlalVzT4MJ7Ll2EOpcVx3vGVzJ3tQ3jvtfa8MD20Z6cYz1BRBIp9AZi+OuH92P32WFsWloJIQQa3LasQPa3vz6AP59ig+DWgZA+XQkoAWkmPXoDIWU1nha0cx1v1jk8ujBFe01ynfcYiafw8+1nx/Vfav9eRpv6lcc42RdCtz+CkQk2uPWHE/jET3fjpxm/BE2X9ovORXkEMu1rLFVj/+MHuvG+u7Zhf5FX72bq8kXR5LVjfZMHUip9gC+f6Ef7UAQf27JMv85gELhqZXXWL1/zEQMZLQifvn4lnrjz2ll/3mtX1yAYTWK/ulGqVlXSqhJaP0fmm0+hFlfZ0eWLossfyWro1wgh8JtPX61vO6G5dEklLEYDdpxR3qh3qXuf/bvWBLtT2SIjcw8yIHPKUnkD0vZ3Gtufl4vBILC2yT3h1hf7O3y4eLEna8rYZlYWSOw958OKmgr8/dvW4ju3bcBIPIW/+/XBnFWTLl8EZwZGkJbKoe2ZtGrRumYPVtRUZK3gHLvCUmM0CGxZVYNXTvar1Snla9cqZC6rCVaTYcoest/u7UQkkYLDYhx3rJUWNtzqPmTKbYmswKVPE2dMu+WqkD3yegekBJ6481o8/YXr0OC24Z9+f3jcFFxfMKaHyc0rqmEQwOduaIHBIHBBgytnhezXryt79e3OWHWqVTY/vmU5nj/Wh47hiF7hbfLa9O8RANjROpS1cfBYKXUbgxW1o6F8pj162vOvb859FmsilUZPIKovTNFek1zP94MXTuH//fYQdp7JDrjaLv1amNb+Pdz54F5c9a/P45pvPT9uP6zBUAwf/NF2PHu0F9999kRWtSqdlhNWBKOJFP7PA6+PWyWs/btal0+FTAtkeU5btg+F814EBEDfELjQPQ/zpfWuLqq06xXBQ50B3L+tDbUuK25cm32EX73LhkF1e6D5ioGMFoxi9IUVasvKGggBvSFcqzZpbzDa4oGVtdM/GmpJlUNphm/3o9Y1vm8LUL72sQsYbGYjNi726sFg15lhrGv24NIllbh6ZTXu39aGRCqd0ZumPHaF1QS72aj3U3UMR1BhMepTNVO5qNmDo92BcT/co4kUjnUH9Yb+TDeubYDJIPDt2zbAbjFiVZ0Lf/WW1XjuWF9WM6/mNbX6ZDcb8dThMYGsOwiXzYQmjw0r67+TAvEAACAASURBVJxZb2ram0iuo7qua6lBbyCGXW3DWbv0A0rorXNbJ62QSSnxix3nsL7ZjZvXN2J762BWQNKmLF3qPmTA+AqZFgQH1ZWCDotxXFN/Oi3xq93tuHplNdY2KacN/N+b1+BQZwCPqGEKGD8V3VLvwp5/eAtuVqe1V9e7cLIvmHXGZSSewuMHu2E3G5WVver3xr52H6oqLPiHt1+IN19YDwB6IGv02PU3/aGROHoCUfgjiXGLKTRdvgjiyTRW1GRWyJQx5np9T/QG8ZcP7p10Ty2tQqe9cY/dHLbHH0Vajk6761PQYypkfYEofvLqGQCjlWGNNvWvNfXXu2343gc24h/fsRb/cut6JNMSd/5yr95Y3uWL4P13b8fp/hDufNMq+MIJPLZPOQ4tlZb4yD078MmfvZ4zlJ3oDeKJgz14QV0QpNEa+rWe2ck0eJTv3Xz2ImvtD+H6b7+I34xZBDTVfQDg+eN9k14Xiafw+V/uLXibkUBE+f5t9tpR77aixmnBEwe78eKJfnzwiiVZbR3AaMgeG8bnEwYyohmorLBgbaNbDz39wRgsJoMeXpaqKylnVCFTFyoEY8mcFbLJbF5RhUOdfgyGYtjX4cMVy5Q30Y9vWY5ufxQfuHs7frVbqZRlPnaNa3Rz2C51D7KxgW8i65vdiCbSWQeqA8DhLj+SaYkNi8YHsg9cvhjbv3wDLl0y2lf35rXKG7/W95bptdMDqKqw4LZNi/DKyX6E46PTRcd6Ariwwa2c1lDrRPtQWK9MHO8Jotlrz3kyxM0XNaLZa8cXHtqnV9Uyt0epdU6+EnBvuw/HeoL44BVLcNXKagyHE1nHCgVjSdjMSn9ghcUIg1DedNqHwvprPzimQnZRswedw5GsN+3trYPoGI7gtk2L9dveuaEJly2txL89dVzfayzXNilex+jXc0G9C9FEOquq8/SRHoRiSfzlDasAAK+rm7/ua/dh42IvhBD47vs34Hsf2KgH6waPDb5wApF4Kuvv6uxQ7jdgLSDnrpBlv77RRAqfeWAPfr+/C3/98P4Jm/BHK2S5A1nXmGl37c17bFj5/vMn9UA1do8xPZBlvIa3bGzGHVuW4yObl+Ib77oIe8/58L1nT+KPh7px8/deQbcvgvvuuAJfeMtqXFDvwn2vtUFKiV/uOoetpwbxzJFevVKdSXvusRW3Q53+vPrHgMKmLH+9pwOptMxZMZ2ItlL2UGdg0hWr21oH8Nt9XfhFgZsca4G4yav87FnX5MGOM0MwCIEPXbFk3PX1E/ydzicMZEQztHlFNfac8yGaSKEvqGyVoIWXy5dVwWk15dXzMZHMfrNcKxunGltaAj959QziyTQ2qU2wb1pThy/ddAEi8RS2nhpEjdOS9Vt35uawypYX+S+W0ALX1jE7r+9rV6ZbclXIDAahV6M0S6scsBgN45rjpZTYdlrZkfym9Q2IJdP6EUlSShzrDupno66scyItoR9hdaI3OOG5qW6bGT/48KXoC0Zx79Yz8NjNsJpGexLrXJOvWvvFjnOosBhxy8ZmXKXuBZXZRxaIJPSpSiGEslu/WiFb0+CG1WTQt2zQAsWGxV7EkumsY5se2t0Ol82kL1rQHu8rb1+LgVAMd7+snLGaa5uUTNrrkBkaH3m9A81eOz6+ZTmsJgN2nx1GIJrA6f6Q/vfmsplxy8Zm/Xtc2w6lyx/J2ryzbTD3dh1jt7wAJp5C/MYTR3GyL4R3X9qMV04O4Kfb2nI+Zrc/CrvZqFfdxlZJOsdMu1tNRngd5qwA2DYwgl/ubMcHr1iCGqdl3MpRbcpSW2U51js2NOF9ly3Cf79wCp/6+R4sqXLg9395Da5aWQ0hBD569VIc6Q7g6SO9+Lc/HseVy6tw9cpqfOOJo+OqcdoJAO0Z09W+cBzd/ijWNblzPv9YLpsZFRbjlFOWqbTUT/s4l+cRRKm0xNnBsL6P4IvHJ95HcJca6p850lvQoo2xvavadPSNa+vR4Bn/Pa19n+fqC5wvGMiIZmjzimrEk2nsb/cpe5BlVCQuX1aFQ/90kz4dOB2NHpveyF9ohewStY/sfnX7C21VksEg8Jk3rsITn7sWO//+Bjz22WuyKmBKIIvhhWN9ON4TxKoCplxX1DqxYbEXD+48l/UDeF+7D00eW96vhclowIrainG/tbcNhtHtj+KqldW4YlkVvA6zPm3Z6YsgGEtiTaMSNrRxn+oLYZ9awZpodSughMUvv+1CpOVo1Ub/3BIvWvtHcu7+748k8IcDXXjnxmY4rSY0e+1YUuXAtow+Mu1gcY12nuW5wTCWVjv01xwY3UvrYnUbA62PzB9O4MlDPTnPW92w2ItrW2r046K0cDPR90xLvfLanFD76rSTHt5zqfLYGxZ58frZYRxo90PK3EEaGF1t2O2L4mh3AJVqYDk3mLtC9v/bu/PwNusr0ePfI8myLFl2LHlN7MSxnRVCFky2soSQQkrZC5TCbQstd1rmAkPbmRamc6edudOndKa3U3q70D60ndIWWgp0SilLWcpOgARK9sVx9sSJl8T77t/9410s2fKW2JESzud59ER69VqS9ea1js75/c6vuq6FcMBHNGb5snC6j0CaJ65k+cKWwzz45h4+e+50/u9181k5O597n97KY+v28x/PbuW2X61zsyGHGtspmhQgK5CGzyODMmSJZgoXhANx2ZTvPr+dNK+HOy6qoCg7w22j4TjWbj3mcKX7r19xBufNyOW2FeU8dtvyuCzgVQumEA74uOOh92jt7OHfrjqTb33sLPqM4R8fjx8reahpcIbM+VJRNoZzsSA7MOKSX2/urHcD2r0No5sxuv9oG129fVw6r5DCrIDbazERZ1LRrrrE585QDtileieIds7bTy0rTbi/82V1pHGIzhJmqWhCAzIRWS0i20SkSkTuTnD/zSJSKyJ/tS+3TuTrUWoiLC6NIAJrqhs40tzfZmC8+LyemOn6YwvsMvxe5pdk09LZ47YoGCg/HBiUAcvN9LO7vpXP/Wodc4qyuHPVjDE9702Lp7LjSIv77RistS/nD/GhPpSZBeFBPc3e2Gll3pbbS8RcNLuAF7Ycpru3j62HrOBidqH1bbosL4SIFZDd+/QWoiE/n1o2bdjnvHl5KZ9YXMIK+9u/45pFU/B6xC3xxvr9u/vp6O7jpiX9pZSlZRHe3tXgltma2nvcdhdgLaG0r6GNpo4epkaC5Gb6+8eQtXSSkeZ1Zw06AdkT6w/S1dPHx8/pL1fGWl6ey/bDLdQ2d/bP+B0iAA76fUyNBN0M2W/f2YcxcM2iYgDOLs1h08FGtxw/1LErsrMVhxrb2Xyoifklk8gPp7NnmAxZWV5m3BcAEXFbXzi+8dQWZheG+fLqWYgI935sHqF0H1/63fvc/3I1T2+s4bF3rTFzB491MDk7A49HyAn5Bwdkx9rJzfTHBbH5WeluJ3tjDC9tr+Xy+UXkhwMUZgcGlfoa27oJpHmGnckdSvfxy88u4SurZw8a4xRK93F9ZQldvX3cel4ZMwrClESC/MMls3h5e23cJAKn0e7+mHK1E5BNzx398IeCEbK6YJUrwwEfVy2czP6GtlFlsZwsZ3leJhfOzuO1qrqEg+k7unt5f18jV8y3GggPHO85nIONHfh9HnfW94Wz8nnxSxe42eeBoiE/Xo+MWLL83gtVLP/miykZlE1YQCYiXuAHwEeAucAnRGRugl1/a4xZYF8emKjXo9REyQ6muePIjsQstzOeSiLxY1/GYmmZ9QfMyY6NRm5mOh3dfUyPhnjwM4vdUttoXTa/iHC6j4fs9RJf3VHL3oa2YbNTicwsiF90HawB/YVZAfeD6ZIzCmjq6OHa+9/k3mes5YecclwgzUtxTgaPrtvPmuoG7lhZkXD8WCwR4ZvXnMU/XRb/5yo/HGDl7HweW7c/riO4MYaH3t7LWcXZceN7lpVHaWzvZrM9rqqpozvuubMz0tz7SiJBopnp7hiyhtYuopl+NxB3Bvb/eVMNZbmhIccROR9Wa6rrOdxkZT3CwwwAn1lgzbTcU9/K/S/v5JIzCtyGxmdPzaG71xrvVJYXGjIz5JSP9tS3UXWkhblFWUyLBtkzRPmruraV8gRBRX64P5vT1tVDdW0rl84rcsvG+eEAv/v8Mh66dQkbvn4x86Zk8/xm6wP+UGO7GxhGQ/7Ea7EO+NKRHw5Qa3941zR1cKyt231fEy2LdKytfx3L4/W5C8q4bUU5d9pj9AC39BxbmneCwfbuXvd32V3Xikdwm+mORqLAMlZLZw/PbKzh8vmTKc/LpLmzxy3NDsfJdE3PDXHhrHxaOnvcTFisjQca6ert47KzijirOJvnNo8+IHN6kDmBu4gMmx30eIT8cPqwJcuaxg5+9HIVzZ09vFU9sT3UjsdEZsgWA1XGmGpjTBfwG+DKCXw+pZJmaVmUdXuPcqyte8xZrNFw/giPdQwZwDI7IFtaNvqA7LwZeVw4K49f3bqEnARZtZEE/T6uWTSFpzbWsGF/I3c8/B6zCsLcuGTwYNzhOBkiZ2WBvj7Dmp31LLfH5QCcPzOPKxdMJt3nIej3cn1lcdx4uIo8K6ibGgly45Lhs2MjueGcEupauuJKNOv2HGX74ZZBA42XlVkrMjgZpuaOnkEly45uK7BzMmTOYP661i6iIT+hdB+RkJ/9R62g9K3qBi6akz/k6ztzchaZ6T7erK7ncLO1PulwkzFmFWZSXdvKPY9vwOfx8PUrznDvc4LnupauIcuVYI3Hys3088qOWnr6DHMnZzE1EmJPgpJlU0c3NU0dCSe5OAu4A25WdGAD3/K8TJZX5BL0+1g1p4D39h2jprGDI82dFNkBVzTTP2g9ywPH2gf10Yvt1u9MRnAyq0WTMmju6In7InCsvWvUM42Hkh8O8JXVswn6+/9/FoQDpPs8ce/XwcZ2N5vqtEWprmtlSk7GoMzbcAqyAhxp7hhyMsRTGw7R3t3LxxYVx62bO5LqulayM9KIhPx8qCIXv9fDnxMEW06G/OxpOXx4TgF/3Xds0ASAB9/czaX3vTpoVvb+BEH0SKyAbOgA9D+f205vn8Hv87hNoFPJRAZkU4DY3P5+e9tAHxOR9SLyqIgkzsMrleKccWTAuJcsncefW5RFJDj24GhZeZSf3VzJR+12B6OxeHqEn9+y+ISyfTcumUZXTx/X/fgNevsMP/7k2XEfRKPRH5BZH9Bba5qpb+2KK1sE0rzcd8NCHvncMp64/Vz+/dr5cY9RYbe4+PtLZo3pwyyRC2bmkR9O57fv9P9pe+itvWSm+7jcLss4CrMDlOeF3D5p1qD+mJJlTLbMzZC1Wt3qG1o73bU2S3Iy2H+0ndd21NHV28fK2QVDvj6f18Pi6RHW7LQyZCON15tZEKanz/DGznq+vHqWOx4MrBnE5XbgtHCEUnNhdsDtPTanKIvSaJDDTZ2DusQ7kxzOnjb4y0FeON39sHbGDc4sGDojsmpuPsbAQ2/vxRgrqwUQCaXHlSyNMdZM4UEZMqtbf0NbF1ucUrc99tAtwx6LHVTf7fYgG08ej1gZRbvE22evOuBktJ1y9e76Vqbnjq19TmFWOt291u84UHNHN997YQcz8jNZNHUSU6OjD8h21bbawwGs5d1Wn1nIr9bscYcTONbubqA8L0Q0M50Pn2H9v31+S/+XmQPH2vnmU1vZfKhpUO/CRMdsJPlZQ4+Z21bTzO/W7eNTy0pZMj0yaNJRKkj2oP4/AqXGmLOA54BfJNpJRP5GRNaKyNra2qFncyiVLM44Mji+suJIrlwwhaf+7rzj6rUmIqycXYDPe3JP91mFYc6elkNnTx/33bDALYWNRUkkSLrP435AP7upBhFYMWvoLNFA11eWcNeqGVw2hoB0KD6vh+sqi3lp2xE27LfaiTy54RBXLZxMKEFp8Ir5U3hrVwMHj7UPHtSfYe0fDVkzXKMhP929hqb2HupbutzxfsU5QfYfbePFrYcJB3xUlg5f9l1eHqW6rpWth5pG/HLglHYXTp3ETQmyh5V24LSgZPjndAK5jDQvpdHQkB/ur+6oJej3Jixd54fTaeqw1jPdfrgZv8/jNlZOZG5RFpOzAzxst1NwM2Qhf9wC4/WtXXR09w0aJ+kOAm/qZMuhJopzMtwg2dn3YEy5L3Zh8fFmZRSt96qutZPuXuPOiN5nj+vaXdfG9Ojoy5XQ/544Ez1ife2JTRw81s69H5uHiLjtdUaXIWuJW23jG1efyfTcEH/763fdTF9fn2HtnqNuYDmrIMzUSJA/bTjoZuz+zx83Y7Cuv7ajP0Dq6O6ltrlzTLO7wcl6Js6QfeuZrYTSfdx+YQXnVuSy40hLyrXImMi/0AeA2IxXsb3NZYypN8Y44ewDwNmJHsgY8xNjTKUxpjIvLy/RLkollTOODCAvc/xLlqeq/7x+AQ9+ZvGwWZ3heD1CRX4m2+3xNU9vPMQ5pZExZe5mFIS5a9XMcWscfH1lCT6Ph8u//xqV33ierp4+blycuBR61cLJGAOPrN1Hd6+Jy4o51522JrFriNbbY8jAWp91/9F2Xtxay/kz89z1H4fijBls6ugZscQ9Mz/MnSsr+O7HFwxakgusiQyr5hS4maOhONmp2UVhvB5xA6mBzUBf2V7HsrJowkxlbHPY7YdbqMjLTPiaHM56rc7MzNgxZM0xC7UPtdKE24us2ZodOqeov53EUBmyoVpenKjSaJA9Da309Rl3QH95XohoyM/+o23UtnTS0tkzpgH9YGV0l5dH+ervN/Ljl3e6A/afXH+Qx989wO0rZ7jZylC6j9xM/6DeZwO1dPZwuKkzruwcDqTxwKcrAfjsL9ZyuKmDqtoWGtu73cBSRLju7GJer6rnxgfW8PDbe3lmUw13rJzBGZOz4kqITh+20SzXFqsgHOBoW/egtUzf23uUF7ce4bYV5eTYZVYY3Jon2cZWPxibd4AZIjIdKxC7AbgxdgcRKTLGOCsIXwFsmcDXo9SEWloWZdPBpgnJkJ2qpkaDbrbkeM0sCLOmup6qIy1sP9zC1y9PNDfo5JkWDfH0Xeexbs9Rdta2kBVIY+4QvaGmRUMsnDqJh96ysjjhuFmW1of71AEB2d6GVrp6+ty2EMU5GXT19FHX0slFs0fODM4tyiI7w2qpMVKbFI9H+OLFs4a8f0lZlCVliWe1xSq0M2ROUDMtwXikPfWt7G1o47PnTk/4GLHNYbcfbnYDy+GsmlPgtnRxgqiIHcgebe2mMNvrtrwY+OHuBID7GtrYVdcaV9IvyAogEp8hO9beFdcUdjxNyw3R0d3HkeZONxiZPCmD4kiQfQ3t7K6z3sexZpkDaV5+fss5fOmR9/nm01v504ZD+DzCtppm5pdM4o6VFXH7l9jr5g5nlzvDMv61TIuG+OFNi7jl5++w6jsvx0wm6s+G3r6yggJ7ma811Q2U5YX4n+eV0dTRzc9e20VrZw+hdN+YlmuLFZv1jO3f+IO/VDEpmMan7ZYZc4uyyAmm8VpVnTurOBVMWIbMGNMD3A48ixVoPWKM2SQi/yoiV9i73Skim0TkfeBO4OaJej1KTbRbPlTKPR+ZPSFjyD7IZhRkcqixg9+ts8ZtrT7zxEuPJ6o8L5PrK0u45yNz+F8XVgy779ULp7jtHBKVLJ2AzMmIOQt+R0PW/6Niu5Q02lKtxyMsmW5lJY5nEsjxcJrDOlniScE0sgK+uNYXTvPe82bkJnwMJyDbWdvCocYOt0/acJaUWY2Xw+k+dwarE8g6y085DUaLJ8V/MXC+OL26o44+Q1yGLM3rIS8z3c2QdXT30tHdd8KD+ofiBLB76lvdhrSF2QFKcjLYd7TNzTSONUMG1qSL792wkLtWzSAjzUso3ceKWfl8/xMLB2Vbp0aCCRezj1VdN3ilBcfy8lyevet8zpicxXObD5MXTo+bFSoiXH9OCc/cdT7Xnl3Md65fgN/n4dyKXLp7DW/bMzWdNWfHPoZscIPhzQebeH7LEW5ZPt0dVuDxCMsrcnm9qm5MzWon2kRmyDDGPAU8NWDbP8dcvwe4ZyJfg1InS3FOkM9dUJ7sl3HamZlvlct++eYeFk6dlLBLdyr76Lwi/vWPm+npM3GD+rMHZMicgMwZLxeJKVmCtVh8oj5yiSwrj/Jn+wPxZDhzSjbZGWluVkTEKlvGtr54ZUcdxTkZQwYVzoepU0aaVTB8mRSsYOOj84rYHTNDMRJylqGyxpE5a7E6AXDsz04KpvGG/XyxARlY46+cbFVT+/Bd+k9UqV3i3VPfRo3dfysa8lMSCfLsphqqaltI88qYAxSHxyPctWomd60afr+SnCBPrj9Ed28faV4P7+xuoCIvM26m9c5aq/3GtCEy36W5IR66dSl/eP8AQb8v4SzfkkiQb1/XP/nmnNIIfp+H13fUsWR6hB+/spP5xdluu5/Rcr6AxLa++MFLVWSm+7h5eWncvudV5PKn9YfYWdtCRf7I/9dOhgkNyJRS6kQ5My3bunq5NAWyY2MVzUzngpl5vLD1SFyGbFo0RJpX3N5XkaAfkf6ALNcOLEoiQTLTfVw6hkkJVy2Ywr6G9ri1QSdSeV4m73/t4rhtU6NBNtoz57p7+3hzZz1XLJg8ZBuOaCgdj8DrVdZMzIEtL4byjavPJDbH4QS2zkzLA8OsxVoQDrDtcDNBv3dQf6/J2QH3WDjNVXMmqGQ5eVIAn0fYXd/KwcYOirIDiAjFORl09xreqq6nJBKc8Ik5UyNBeu1xbB4PfPzHb3Ljkqn821Xz3H2qa1sozgnGLSs2kMcjXL1w9KXAQJqXc0pzeK2qjnAgjcNNnfzgxkWjXj/X4VQnnMH6O2tbeGrDIT5/QfmgGbLOOLLXdtSlTECW7FmWSik1rOKcDDLs7uix6zeeSj6xeOqgDEd5Xiab/mW1O/7M5/WQE/S7DUKdwCKQ5uWVL1/ILQO+4Q8nJ+Tnny+fO2xX+Yk2LRLkwNF2enr7eG/vMVo6ezh/iHIlWBM4ovbyUUG/d9TZIJ/XE1d66y9ZWgHZcO0TnKzcrMLwoEkfRdlWhswYw0vbahFhxBmux8vn9VASsZrp1jS2U2hnepyZj+sPNLrrdE6kkpixf4+8s48+Y3XXj+1jVm23vBhvH6rIZWtNMz96uYpL5xW6kwHGIifoJ80rbobswTd24/d6Eo5bLIkEmZ4bctuKpAINyJRSKc3jEeYUhe0SxolNEEiWVXMLWP+1SwaN6Ro42zAa8rv97GLLk5GQf9xmiZ4spdEQPX2G16rq+OFLVXg9wrLyoQMy6M9wzCgYHCCNVlYgDa9H3FUPEjWF7X8+63gMLFeClbVq6+qlqb2H5zYfZmHJpAlp+uyYGgmyp77VWgbKDiCd/+/G9Jc1J5IzAWdXXQuPrLWWVKpt7uS9fVaD14PH2tla08S8IVaKOBHnVVgdFHr7DF9ZPfu4HsPq1m81wzXG8Nzmw5w/M8+dMDPQM3edN2hFjmTSgEwplfL+342LuP+TCbvinDIy/CNnq5ysWGa6L6nZrfHgfLjf/PN3eGNnPXesrBhxULwTkM3MH1sD1FgejxCx17N8o6qOY23dQ5Y/nVmoiQIyp7faur0NbDjQyIfnTmx2tjQaZHddG4ebOtxxkpMnBdz+hsfTx2+sCrMCpHmFX63ZS01TB1+7/AzSvMIzG60+Zg+/vReD1fplvM2dbC259fkLyoftPzeS/Kx0u7dcMwcbO1g1zMoWw5Vdk0HHkCmlUt7xDmY+1Tjd+Uc7eD+VnTklm/Nn5rGgZBKfXDptVBMMnH2chrXHKxryU9PUwT/9YSNTI8EhAwgnAJyT4PmcoOiXdluND889vl56ozUtGnKXanL6uqX7vBRmBTjU2HFSSpZej1CcYy04nxdO58oFk3ly/UGe3XSYf7hkNr95Zx8XzsqfkEy11yP85UsrGOOwsUEKwgF21rbw4lZrhYwLx9BEOtk0IFNKqRSRZwdkTqbsVJaZ7uPBzywe0884JcEZoxzQP5RIyM9L26w2G/91yzlDZhsvmlPAjiMtnFU8eGkop5XHS9trKcsNuUtwTZTYWYuFMUtYleQEOdTYcVIyZGCVSXfVtXJ9ZTFpXg+rzyjk7sc3cN8L26lt7uSTS09sPdjhjEdZviArnTd21vH8liPML84ecfmwVKIlS6WUShHOgPToaZAhOx7TokF89pjBE+FkGi+dVzhs77aSSJBvXD1vyJUDvB7BmInPjgFxZbqimNYuJZEggTSPO9B/ok21W03ccM5UwBr/6BH44Us7KYlkcP7M1F4tJz8rQFNHD+/vP8ZFcyb+uI0nzZAppVSKcAIJpynsB81VC6dQWRo54cHzJTkZZKb7+N8nMGDb6xEKwukcbOzg4jMm/oO9JJKBiDWAPzYgu21FOavPLDxpkzpuPbeMpWXRuCW9KksjvL2rgRsXTxt2OatU4JShjYGLhhk/loo0IFNKqRSRa5cqI6dByfJ4pHk9x9WNfqA7L5rBzctLT7hcNXlSBl29fSMurj4e0n1eJmdnUNfSGTeGsCI/c8LLpbFKc0ODyqPXLipmW00z11emzjJDQ3FmMhdlB9yVI04VGpAppVSK6M+QfTADsvESSPOOyyzVL148k47u3pOWFZoWDZLmlTE3RJ1o11UWc82iKRPemHY8OAHZytn5Kfc+jkQDMqWUShElkQzSvDIhjTfV2C0foW/aePvSxbNo6ug+qc85GiKCz3tqBDeluUEunVfI/5jAyQcTRVJpYc3RqKysNGvXrk32y1BKqQlRb5esTrVv90qpxERknTGmcqT9NEOmlFIpJDpEV3Gl1Okt9QvCSimllFKnOQ3IlFJKKaWSTAMypZRSSqkk04BMKaWUUirJNCBTSimllEoyDciUUkoppZJMAzKllFJKqSTTgEwppZRSKsk0IFNKKaWUSjINyJRSSimlkuyUW8tSRGqBPSfhqXKBupPwPGps9LikHj0mqUmPS2rSJn+JzgAAB4tJREFU45KaJvK4TDPG5I200ykXkJ0sIrJ2NIuBqpNLj0vq0WOSmvS4pCY9LqkpFY6LliyVUkoppZJMAzKllFJKqSTTgGxoP0n2C1AJ6XFJPXpMUpMel9SkxyU1Jf246BgypZRSSqkk0wyZUkoppVSSaUA2gIisFpFtIlIlIncn+/Wc7kSkRET+IiKbRWSTiPydvT0iIs+JyA773xx7u4jI9+zjs15EFsU81qft/XeIyKeT9TudLkTEKyLviciT9u3pIvKW/d7/VkT89vZ0+3aVfX9pzGPcY2/fJiKXJOc3Ob2IyCQReVREtorIFhFZpudL8onIF+y/YRtF5GERCeg5c/KJyM9E5IiIbIzZNm7nh4icLSIb7J/5nojIuL14Y4xe7AvgBXYCZYAfeB+Ym+zXdTpfgCJgkX09DGwH5gL/Dtxtb78b+JZ9/VLgaUCApcBb9vYIUG3/m2Nfz0n273cqX4AvAg8BT9q3HwFusK/fD9xmX/9b4H77+g3Ab+3rc+1zKB2Ybp9b3mT/Xqf6BfgFcKt93Q9M0vMl6cdkCrALyLBvPwLcrOdMUo7F+cAiYGPMtnE7P4C37X3F/tmPjNdr1wxZvMVAlTGm2hjTBfwGuDLJr+m0Zow5ZIx5177eDGzB+uN2JdYHD/a/V9nXrwQeNJY1wCQRKQIuAZ4zxjQYY44CzwGrT+KvcloRkWLgo8AD9m0BVgKP2rsMPCbOsXoUuMje/0rgN8aYTmPMLqAK6xxTx0lEsrE+cH4KYIzpMsYcQ8+XVOADMkTEBwSBQ+g5c9IZY14BGgZsHpfzw74vyxizxljR2YMxj3XCNCCLNwXYF3N7v71NnQR22n4h8BZQYIw5ZN9VAxTY14c6Rnrsxtd3gS8DffbtKHDMGNNj3459f9333r6/0d5fj8n4mw7UAj+3y8kPiEgIPV+SyhhzAPg2sBcrEGsE1qHnTKoYr/Njin194PZxoQGZSgkikgk8BtxljGmKvc/+JqLTgU8SEbkMOGKMWZfs16IG8WGVY35kjFkItGKVYFx6vpx89pikK7EC5slACM04pqRUPj80IIt3ACiJuV1sb1MTSETSsIKxXxtjHrc3H7bTw9j/HrG3D3WM9NiNnw8BV4jIbqyy/UrgPqx0vs/eJ/b9dd97+/5soB49JhNhP7DfGPOWfftRrABNz5fkWgXsMsbUGmO6gcexziM9Z1LDeJ0fB+zrA7ePCw3I4r0DzLBnxvixBls+keTXdFqzx038FNhijPlOzF1PAM7Mlk8Df4jZ/il7dsxSoNFORT8LXCwiOfa31YvtbWqMjDH3GGOKjTGlWOfAi8aYm4C/ANfauw08Js6xutbe39jbb7BnlE0HZmANiFXHyRhTA+wTkVn2pouAzej5kmx7gaUiErT/pjnHRc+Z1DAu54d9X5OILLWP86diHuvEJXtGRKpdsGZdbMea3fLVZL+e0/0CnIuVPl4P/NW+XIo1nuIFYAfwPBCx9xfgB/bx2QBUxjzWZ7AGwVYBtyT7dzsdLsAK+mdZlmF9OFQBvwPS7e0B+3aVfX9ZzM9/1T5W2xjH2Ugf5AuwAFhrnzP/jTULTM+X5B+XfwG2AhuBX2LNlNRz5uQfh4exxvF1Y2WUPzue5wdQaR/jncD3sRvsj8dFO/UrpZRSSiWZliyVUkoppZJMAzKllFJKqSTTgEwppZRSKsk0IFNKKaWUSjINyJRSSimlkkwDMqXUKUNEWux/S0XkxnF+7H8ccPuN8Xx8pZQajgZkSqlTUSkwpoAspmP6UOICMmPM8jG+JqWUOm4akCmlTkX3AueJyF9F5Asi4hWR/xCRd0RkvYh8DkBEVojIqyLyBFbndETkv0VknYhsEpG/sbfdC2TYj/dre5uTjRP7sTeKyAYR+XjMY78kIo+KyFYR+bXdvRsRuVdENtuv5dsn/d1RSp1yRvrGqJRSqehu4O+NMZcB2IFVozHmHBFJB14XkT/b+y4CzjTG7LJvf8YY0yAiGcA7IvKYMeZuEbndGLMgwXNdg9Udfz6Qa//MK/Z9C4EzgIPA68CHRGQLcDUw2xhjRGTSuP/2SqnTjmbIlFKng4ux1qT7K/AW1lIpM+z73o4JxgDuFJH3gTVYCwjPYHjnAg8bY3qNMYeBl4FzYh57vzGmD2vZr1KgEegAfioi1wBtJ/zbKaVOexqQKaVOBwLcYYxZYF+mG2OcDFmru5PICmAVsMwYMx94D2tdwePVGXO9F/AZY3qAxcCjwGXAMyfw+EqpDwgNyJRSp6JmIBxz+1ngNhFJAxCRmSISSvBz2cBRY0ybiMwGlsbc1+38/ACvAh+3x6nlAedjLQidkIhkAtnGmKeAL2CVOpVSalg6hkwpdSpaD/Tapcf/Au7DKhe+aw+srwWuSvBzzwCft8d5bcMqWzp+AqwXkXeNMTfFbP89sAx4HzDAl40xNXZAl0gY+IOIBLAyd188vl9RKfVBIsaYZL8GpZRSSqkPNC1ZKqWUUkolmQZkSimllFJJpgGZUkoppVSSaUCmlFJKKZVkGpAppZRSSiWZBmRKKaWUUkmmAZlSSimlVJJpQKaUUkoplWT/H7Z7NUbCcOlqAAAAAElFTkSuQmCC\n",
      "text/plain": [
       "<Figure size 720x360 with 1 Axes>"
      ]
     },
     "metadata": {
      "needs_background": "light"
     },
     "output_type": "display_data"
    }
   ],
   "source": [
    "import matplotlib.pyplot as plt\n",
    "\n",
    "iterations = losses[:, 0]\n",
    "train_loss = losses[:, 1]\n",
    "plt.figure(figsize=(10, 5))\n",
    "plt.plot(iterations, train_loss)\n",
    "plt.xlabel(\"Iterations\")\n",
    "plt.ylabel(\"Loss\")\n",
    "plt.title(\"Training curve\")\n",
    "plt.show()"
   ]
  },
  {
   "cell_type": "markdown",
   "metadata": {},
   "source": [
    "### Test network predictions"
   ]
  },
  {
   "cell_type": "code",
   "execution_count": 48,
   "metadata": {},
   "outputs": [
    {
     "name": "stdout",
     "output_type": "stream",
     "text": [
      "Average test loss: 0.8256756663322449\n"
     ]
    }
   ],
   "source": [
    "TEST_BATCH_SIZE = 128\n",
    "\n",
    "model.test(test_set_flat, test_labels_one_hot, TEST_BATCH_SIZE)"
   ]
  },
  {
   "cell_type": "code",
   "execution_count": 52,
   "metadata": {},
   "outputs": [
    {
     "ename": "RuntimeError",
     "evalue": "Attempted to use a closed Session.",
     "output_type": "error",
     "traceback": [
      "\u001b[0;31m---------------------------------------------------------------------------\u001b[0m",
      "\u001b[0;31mRuntimeError\u001b[0m                              Traceback (most recent call last)",
      "\u001b[0;32m<ipython-input-52-103d0b8ca56d>\u001b[0m in \u001b[0;36m<module>\u001b[0;34m\u001b[0m\n\u001b[1;32m      7\u001b[0m \u001b[0;34m\u001b[0m\u001b[0m\n\u001b[1;32m      8\u001b[0m \u001b[0mfeed_dict\u001b[0m \u001b[0;34m=\u001b[0m \u001b[0;34m{\u001b[0m\u001b[0mmodel\u001b[0m\u001b[0;34m.\u001b[0m\u001b[0minput\u001b[0m\u001b[0;34m:\u001b[0m \u001b[0msample\u001b[0m\u001b[0;34m,\u001b[0m \u001b[0mmodel\u001b[0m\u001b[0;34m.\u001b[0m\u001b[0mground_truth\u001b[0m\u001b[0;34m:\u001b[0m \u001b[0mlabel\u001b[0m\u001b[0;34m}\u001b[0m\u001b[0;34m\u001b[0m\u001b[0m\n\u001b[0;32m----> 9\u001b[0;31m \u001b[0mprediction\u001b[0m \u001b[0;34m=\u001b[0m \u001b[0mmodel\u001b[0m\u001b[0;34m.\u001b[0m\u001b[0msess\u001b[0m\u001b[0;34m.\u001b[0m\u001b[0mrun\u001b[0m\u001b[0;34m(\u001b[0m\u001b[0mmodel\u001b[0m\u001b[0;34m.\u001b[0m\u001b[0mprediction\u001b[0m\u001b[0;34m,\u001b[0m \u001b[0mfeed_dict\u001b[0m\u001b[0;34m=\u001b[0m\u001b[0mfeed_dict\u001b[0m\u001b[0;34m)\u001b[0m\u001b[0;34m[\u001b[0m\u001b[0;36m0\u001b[0m\u001b[0;34m]\u001b[0m\u001b[0;34m\u001b[0m\u001b[0m\n\u001b[0m\u001b[1;32m     10\u001b[0m \u001b[0;34m\u001b[0m\u001b[0m\n\u001b[1;32m     11\u001b[0m \u001b[0mimage\u001b[0m \u001b[0;34m=\u001b[0m \u001b[0mnp\u001b[0m\u001b[0;34m.\u001b[0m\u001b[0mreshape\u001b[0m\u001b[0;34m(\u001b[0m\u001b[0msample\u001b[0m\u001b[0;34m,\u001b[0m \u001b[0;34m(\u001b[0m\u001b[0;36m32\u001b[0m\u001b[0;34m,\u001b[0m \u001b[0;36m32\u001b[0m\u001b[0;34m)\u001b[0m\u001b[0;34m)\u001b[0m\u001b[0;34m\u001b[0m\u001b[0m\n",
      "\u001b[0;32m/usr/local/lib/python3.6/site-packages/tensorflow/python/client/session.py\u001b[0m in \u001b[0;36mrun\u001b[0;34m(self, fetches, feed_dict, options, run_metadata)\u001b[0m\n\u001b[1;32m    885\u001b[0m     \u001b[0;32mtry\u001b[0m\u001b[0;34m:\u001b[0m\u001b[0;34m\u001b[0m\u001b[0m\n\u001b[1;32m    886\u001b[0m       result = self._run(None, fetches, feed_dict, options_ptr,\n\u001b[0;32m--> 887\u001b[0;31m                          run_metadata_ptr)\n\u001b[0m\u001b[1;32m    888\u001b[0m       \u001b[0;32mif\u001b[0m \u001b[0mrun_metadata\u001b[0m\u001b[0;34m:\u001b[0m\u001b[0;34m\u001b[0m\u001b[0m\n\u001b[1;32m    889\u001b[0m         \u001b[0mproto_data\u001b[0m \u001b[0;34m=\u001b[0m \u001b[0mtf_session\u001b[0m\u001b[0;34m.\u001b[0m\u001b[0mTF_GetBuffer\u001b[0m\u001b[0;34m(\u001b[0m\u001b[0mrun_metadata_ptr\u001b[0m\u001b[0;34m)\u001b[0m\u001b[0;34m\u001b[0m\u001b[0m\n",
      "\u001b[0;32m/usr/local/lib/python3.6/site-packages/tensorflow/python/client/session.py\u001b[0m in \u001b[0;36m_run\u001b[0;34m(self, handle, fetches, feed_dict, options, run_metadata)\u001b[0m\n\u001b[1;32m   1031\u001b[0m     \u001b[0;31m# Check session.\u001b[0m\u001b[0;34m\u001b[0m\u001b[0;34m\u001b[0m\u001b[0m\n\u001b[1;32m   1032\u001b[0m     \u001b[0;32mif\u001b[0m \u001b[0mself\u001b[0m\u001b[0;34m.\u001b[0m\u001b[0m_closed\u001b[0m\u001b[0;34m:\u001b[0m\u001b[0;34m\u001b[0m\u001b[0m\n\u001b[0;32m-> 1033\u001b[0;31m       \u001b[0;32mraise\u001b[0m \u001b[0mRuntimeError\u001b[0m\u001b[0;34m(\u001b[0m\u001b[0;34m'Attempted to use a closed Session.'\u001b[0m\u001b[0;34m)\u001b[0m\u001b[0;34m\u001b[0m\u001b[0m\n\u001b[0m\u001b[1;32m   1034\u001b[0m     \u001b[0;32mif\u001b[0m \u001b[0mself\u001b[0m\u001b[0;34m.\u001b[0m\u001b[0mgraph\u001b[0m\u001b[0;34m.\u001b[0m\u001b[0mversion\u001b[0m \u001b[0;34m==\u001b[0m \u001b[0;36m0\u001b[0m\u001b[0;34m:\u001b[0m\u001b[0;34m\u001b[0m\u001b[0m\n\u001b[1;32m   1035\u001b[0m       raise RuntimeError('The Session graph is empty.  Add operations to the '\n",
      "\u001b[0;31mRuntimeError\u001b[0m: Attempted to use a closed Session."
     ]
    }
   ],
   "source": [
    "example = np.random.choice(np.arange(n_test))\n",
    "\n",
    "sample = np.expand_dims(test_set_flat[example], axis=0)\n",
    "label = np.expand_dims(test_labels_one_hot[example], axis=0)\n",
    "\n",
    "digit = np.where(label[0]==1.0)[0][0]\n",
    "\n",
    "feed_dict = {model.input: sample, model.ground_truth: label}\n",
    "prediction = model.sess.run(model.prediction, feed_dict=feed_dict)[0]\n",
    "\n",
    "image = np.reshape(sample, (32, 32))\n",
    "\n",
    "print(\"Test sample digit: {}\".format(digit))\n",
    "fig, ax = plt.subplots(1, 2, figsize=(17, 5))\n",
    "ax[0].imshow(image, cmap='gray')\n",
    "ax[0].set_title(\"Test example\")\n",
    "\n",
    "classes = np.arange(10)\n",
    "width = 1.0\n",
    "\n",
    "#fig, ax = plt.subplots()\n",
    "ax[1].bar(classes, prediction, width, color='Blue')\n",
    "ax[1].set_ylabel('Probabilities')\n",
    "ax[1].set_title('Network categorical distribution')\n",
    "ax[1].set_xticks(classes)\n",
    "ax[1].set_xticklabels(('0', '1', '2', '3', '4', '5', '6', '7', '8', '9'))\n",
    "ax[1].set_xlabel('Digit class')\n",
    "\n",
    "plt.show()\n",
    "\n",
    "print(\"Network prediction probabilities:\")\n",
    "print(prediction)"
   ]
  },
  {
   "cell_type": "code",
   "execution_count": 51,
   "metadata": {},
   "outputs": [],
   "source": [
    "model.sess.close()"
   ]
  },
  {
   "cell_type": "code",
   "execution_count": null,
   "metadata": {},
   "outputs": [],
   "source": []
  }
 ],
 "metadata": {
  "kernelspec": {
   "display_name": "Python 3",
   "language": "python",
   "name": "python3"
  },
  "language_info": {
   "codemirror_mode": {
    "name": "ipython",
    "version": 3
   },
   "file_extension": ".py",
   "mimetype": "text/x-python",
   "name": "python",
   "nbconvert_exporter": "python",
   "pygments_lexer": "ipython3",
   "version": "3.6.5"
  }
 },
 "nbformat": 4,
 "nbformat_minor": 2
}
=======
{
 "cells": [
  {
   "cell_type": "markdown",
   "metadata": {},
   "source": [
    "# Week 2: MLP classifier"
   ]
  },
  {
   "cell_type": "code",
   "execution_count": null,
   "metadata": {},
   "outputs": [],
   "source": [
    "import tensorflow as tf"
   ]
  },
  {
   "cell_type": "markdown",
   "metadata": {},
   "source": [
    "SVHN can be downloaded from http://ufldl.stanford.edu/housenumbers/"
   ]
  },
  {
   "cell_type": "markdown",
   "metadata": {},
   "source": [
    "## Import and preprocess the data"
   ]
  },
  {
   "cell_type": "code",
   "execution_count": null,
   "metadata": {
    "collapsed": true
   },
   "outputs": [],
   "source": [
    "from scipy.io import loadmat\n",
    "\n",
    "train = loadmat('../SVHN/train_32x32.mat')\n",
    "test = loadmat('../SVHN/test_32x32.mat')"
   ]
  },
  {
   "cell_type": "markdown",
   "metadata": {},
   "source": [
    "`train` and `test` are dictionaries with keys `'X'` and `'y'`. The values are numpy arrays."
   ]
  },
  {
   "cell_type": "code",
   "execution_count": null,
   "metadata": {},
   "outputs": [],
   "source": [
    "print(train['X'].shape)\n",
    "print(train['y'].shape)"
   ]
  },
  {
   "cell_type": "code",
   "execution_count": null,
   "metadata": {},
   "outputs": [],
   "source": [
    "print(test['X'].shape)\n",
    "print(test['y'].shape)"
   ]
  },
  {
   "cell_type": "code",
   "execution_count": null,
   "metadata": {
    "collapsed": true
   },
   "outputs": [],
   "source": [
    "import numpy as np\n",
    "\n",
    "training_set = np.transpose(train['X'], (3, 0, 1, 2)).astype(np.float32)\n",
    "training_labels = train['y']\n",
    "\n",
    "test_set = np.transpose(test['X'], (3, 0, 1, 2)).astype(np.float32)\n",
    "test_labels = test['y']"
   ]
  },
  {
   "cell_type": "code",
   "execution_count": null,
   "metadata": {
    "collapsed": true
   },
   "outputs": [],
   "source": [
    "n_train = training_set.shape[0]\n",
    "n_test = test_set.shape[0]"
   ]
  },
  {
   "cell_type": "markdown",
   "metadata": {},
   "source": [
    "### Inspect the data"
   ]
  },
  {
   "cell_type": "code",
   "execution_count": null,
   "metadata": {
    "collapsed": true
   },
   "outputs": [],
   "source": [
    "from matplotlib import pyplot as plt"
   ]
  },
  {
   "cell_type": "code",
   "execution_count": null,
   "metadata": {},
   "outputs": [],
   "source": [
    "example = np.random.choice(np.arange(n_train))\n",
    "\n",
    "image = training_set[example]\n",
    "label = training_labels[example][0]\n",
    "\n",
    "if label == 10:\n",
    "    label = 0\n",
    "\n",
    "plt.imshow(image)\n",
    "plt.show()\n",
    "\n",
    "print(\"Digit: {}\".format(label))"
   ]
  },
  {
   "cell_type": "markdown",
   "metadata": {},
   "source": [
    "### Convert the images to grayscale"
   ]
  },
  {
   "cell_type": "code",
   "execution_count": null,
   "metadata": {
    "collapsed": true
   },
   "outputs": [],
   "source": [
    "def convert_to_grayscale(images):\n",
    "    images = np.add.reduce(images, keepdims=True, axis=3)\n",
    "    images = images / 3.0\n",
    "    return images / 128.0 - 1.0"
   ]
  },
  {
   "cell_type": "code",
   "execution_count": null,
   "metadata": {
    "collapsed": true
   },
   "outputs": [],
   "source": [
    "training_set_gs = convert_to_grayscale(training_set)\n",
    "test_set_gs = convert_to_grayscale(test_set)"
   ]
  },
  {
   "cell_type": "code",
   "execution_count": null,
   "metadata": {},
   "outputs": [],
   "source": [
    "print(training_set_gs.shape)\n",
    "print(test_set_gs.shape)"
   ]
  },
  {
   "cell_type": "code",
   "execution_count": null,
   "metadata": {},
   "outputs": [],
   "source": [
    "example = np.random.choice(np.arange(n_train))\n",
    "\n",
    "image = training_set_gs[example]\n",
    "label = training_labels[example][0]\n",
    "\n",
    "if label == 10:\n",
    "    label = 0\n",
    "\n",
    "plt.imshow(np.squeeze(image), cmap='gray')\n",
    "plt.show()\n",
    "\n",
    "print(\"Digit: {}\".format(label))"
   ]
  },
  {
   "cell_type": "markdown",
   "metadata": {},
   "source": [
    "Flatten the inputs to feed into an MLP"
   ]
  },
  {
   "cell_type": "code",
   "execution_count": null,
   "metadata": {},
   "outputs": [],
   "source": [
    "training_set_flat = training_set_gs.reshape((n_train, -1))\n",
    "test_set_flat = test_set_gs.reshape((n_test, -1))\n",
    "\n",
    "print(training_set_flat.shape)\n",
    "print(test_set_flat.shape)"
   ]
  },
  {
   "cell_type": "markdown",
   "metadata": {},
   "source": [
    "### Encode the labels as one-hot vectors"
   ]
  },
  {
   "cell_type": "code",
   "execution_count": null,
   "metadata": {
    "collapsed": true
   },
   "outputs": [],
   "source": [
    "def one_hot(labels):\n",
    "    \"\"\"\n",
    "    Encodes the labels as one-hot vectors. Zero is represented as 10 in SVHN.\n",
    "    [10] -> [1, 0, 0, 0, 0, 0, 0, 0, 0, 0]\n",
    "    [2] -> [0, 0, 1, 0, 0, 0, 0, 0, 0, 0]\n",
    "    \n",
    "    \"\"\"\n",
    "    labels = np.squeeze(labels)\n",
    "    one_hot_labels = []\n",
    "    for num in labels:\n",
    "        one_hot = [0.0] * 10\n",
    "        if num == 10:\n",
    "            one_hot[0] = 1.0\n",
    "        else:\n",
    "            one_hot[num] = 1.0\n",
    "        one_hot_labels.append(one_hot)\n",
    "    labels = np.array(one_hot_labels).astype(np.float32)\n",
    "    return labels"
   ]
  },
  {
   "cell_type": "code",
   "execution_count": null,
   "metadata": {
    "collapsed": true
   },
   "outputs": [],
   "source": [
    "training_labels_one_hot = one_hot(training_labels)\n",
    "test_labels_one_hot = one_hot(test_labels)"
   ]
  },
  {
   "cell_type": "code",
   "execution_count": null,
   "metadata": {},
   "outputs": [],
   "source": [
    "print(training_labels_one_hot.shape)\n",
    "print(test_labels_one_hot.shape)"
   ]
  },
  {
   "cell_type": "markdown",
   "metadata": {},
   "source": [
    "## Build the network"
   ]
  },
  {
   "cell_type": "code",
   "execution_count": null,
   "metadata": {
    "collapsed": true
   },
   "outputs": [],
   "source": [
    "class SVHN_MLP:\n",
    "    def __init__(self, wd_factor, learning_rate):\n",
    "        self.wd_factor = wd_factor\n",
    "        self.learning_rate = learning_rate\n",
    "        self.train_pointer = 0\n",
    "        self.test_pointer = 0\n",
    "        \n",
    "        self.sess = tf.Session()\n",
    "        \n",
    "        self.input = tf.placeholder(dtype=tf.float32, shape=[None, 1024], name='input')\n",
    "        self.ground_truth = tf.placeholder(dtype=tf.float32, shape=[None, 10], name='ground_truth')\n",
    "        print(self.input)\n",
    "        \n",
    "        self._build_graph()\n",
    "        \n",
    "    def _build_graph(self):\n",
    "        weights = []  # for weight decay\n",
    "        \n",
    "        with tf.variable_scope('layers'):\n",
    "            h = tf.layers.dense(self.input, 512, kernel_initializer=tf.glorot_uniform_initializer(), \n",
    "                                activation=tf.tanh, name='1')\n",
    "            print(h)\n",
    "            h = tf.layers.dense(h, 256, kernel_initializer=tf.glorot_uniform_initializer(), \n",
    "                                activation=tf.tanh, name='2')\n",
    "            print(h)\n",
    "            h = tf.layers.dense(h, 64, kernel_initializer=tf.glorot_uniform_initializer(), \n",
    "                                activation=tf.tanh, name='3')\n",
    "            print(h)\n",
    "            self.logits = tf.layers.dense(h, 10, kernel_initializer=tf.glorot_uniform_initializer(), \n",
    "                                          activation=tf.identity, name='4')\n",
    "            print(self.logits)\n",
    "            self.prediction = tf.nn.softmax(self.logits, name='softmax_prediction')\n",
    "            \n",
    "        with tf.name_scope('loss'):\n",
    "            self.loss = tf.reduce_mean(tf.nn.softmax_cross_entropy_with_logits_v2(logits=self.logits, \n",
    "                                                                                  labels=self.ground_truth))\n",
    "            self.loss += self.weight_decay()\n",
    "            \n",
    "        self.optimizer = tf.train.AdamOptimizer(self.learning_rate)\n",
    "        self.train_op = self.optimizer.minimize(self.loss)\n",
    "            \n",
    "    def weight_decay(self):\n",
    "        loss = 0\n",
    "        for v in tf.global_variables():\n",
    "            if 'Adam' in v.name:\n",
    "                continue\n",
    "            elif 'kernel' in v.name:\n",
    "                loss += self.wd_factor * tf.nn.l2_loss(v)\n",
    "        print(loss)\n",
    "        return loss\n",
    "    \n",
    "    def train_minibatch(self, samples, labels, batch_size):\n",
    "        if self.train_pointer + batch_size <= samples.shape[0]:\n",
    "            samples_minibatch = samples[self.train_pointer: self.train_pointer + batch_size]\n",
    "            labels_minibatch = labels[self.train_pointer: self.train_pointer + batch_size]\n",
    "            self.train_pointer += batch_size\n",
    "        else:\n",
    "            samples_minibatch = samples[self.train_pointer:]\n",
    "            labels_minibatch = labels[self.train_pointer: self.train_pointer + batch_size]\n",
    "            self.train_pointer = 0\n",
    "        return samples_minibatch, labels_minibatch\n",
    "\n",
    "    def train(self, train_samples, train_labels, train_batch_size, iteration_steps):\n",
    "        self.sess.run(tf.global_variables_initializer())\n",
    "\n",
    "        print('Start Training')\n",
    "        losses = []\n",
    "        for i in range(iteration_steps):\n",
    "            samples, labels = self.train_minibatch(train_samples, train_labels, train_batch_size)\n",
    "            feed_dict = {self.input: samples, self.ground_truth: labels}\n",
    "            _, loss = self.sess.run([self.train_op, self.loss], feed_dict=feed_dict)\n",
    "            if i % 50 == 0:\n",
    "                print(\"Minibatch loss at step {}: {}\".format(i, loss))\n",
    "                losses.append([i, loss])\n",
    "        return losses\n",
    "                    \n",
    "    def test_minibatch(self, samples, labels, batch_size):\n",
    "        if self.test_pointer + batch_size <= samples.shape[0]:\n",
    "            samples_minibatch = samples[self.test_pointer: self.test_pointer + batch_size]\n",
    "            labels_minibatch = labels[self.test_pointer: self.test_pointer + batch_size]\n",
    "            self.test_pointer += batch_size\n",
    "            end_of_epoch = False\n",
    "        else:\n",
    "            samples_minibatch = samples[self.test_pointer:]\n",
    "            labels_minibatch = labels[self.test_pointer: self.test_pointer + batch_size]\n",
    "            self.test_pointer = 0\n",
    "            end_of_epoch = True\n",
    "        return samples_minibatch, labels_minibatch, end_of_epoch\n",
    "            \n",
    "    def test(self, test_samples, test_labels, test_batch_size):\n",
    "        end_of_epoch = False\n",
    "        losses = []\n",
    "        while not end_of_epoch:\n",
    "            samples, labels, end_of_epoch = self.test_minibatch(test_samples, test_labels, test_batch_size)\n",
    "            feed_dict = {self.input: samples, self.ground_truth: labels}\n",
    "            losses.append(self.sess.run(self.loss, feed_dict=feed_dict))  \n",
    "        print(\"Average test loss: {}\".format(np.mean(losses)))"
   ]
  },
  {
   "cell_type": "code",
   "execution_count": null,
   "metadata": {},
   "outputs": [],
   "source": [
    "WD_FACTOR = 0.0001\n",
    "LEARNING_RATE = 0.001\n",
    "model = SVHN_MLP(WD_FACTOR, LEARNING_RATE)"
   ]
  },
  {
   "cell_type": "code",
   "execution_count": null,
   "metadata": {},
   "outputs": [],
   "source": [
    "tf.global_variables()"
   ]
  },
  {
   "cell_type": "markdown",
   "metadata": {},
   "source": [
    "### Train the network"
   ]
  },
  {
   "cell_type": "code",
   "execution_count": null,
   "metadata": {},
   "outputs": [],
   "source": [
    "TRAIN_BATCH_SIZE = 128\n",
    "ITERATIONS = 10000\n",
    "\n",
    "import time\n",
    "start_time = time.time()\n",
    "\n",
    "losses = model.train(training_set_flat, training_labels_one_hot, TRAIN_BATCH_SIZE, ITERATIONS)\n",
    "\n",
    "end_time = time.time()\n",
    "print(\"Training time: {}s\".format(end_time - start_time))"
   ]
  },
  {
   "cell_type": "code",
   "execution_count": null,
   "metadata": {},
   "outputs": [],
   "source": [
    "losses = np.array(losses)\n",
    "print(losses.shape)"
   ]
  },
  {
   "cell_type": "code",
   "execution_count": null,
   "metadata": {},
   "outputs": [],
   "source": [
    "import matplotlib.pyplot as plt\n",
    "\n",
    "iterations = losses[:, 0]\n",
    "train_loss = losses[:, 1]\n",
    "plt.figure(figsize=(10, 5))\n",
    "plt.plot(iterations, train_loss)\n",
    "plt.xlabel(\"Iterations\")\n",
    "plt.ylabel(\"Loss\")\n",
    "plt.title(\"Training curve\")\n",
    "plt.show()"
   ]
  },
  {
   "cell_type": "markdown",
   "metadata": {},
   "source": [
    "### Test network predictions"
   ]
  },
  {
   "cell_type": "code",
   "execution_count": null,
   "metadata": {},
   "outputs": [],
   "source": [
    "TEST_BATCH_SIZE = 128\n",
    "\n",
    "model.test(test_set_flat, test_labels_one_hot, TEST_BATCH_SIZE)"
   ]
  },
  {
   "cell_type": "code",
   "execution_count": null,
   "metadata": {},
   "outputs": [],
   "source": [
    "example = np.random.choice(np.arange(n_test))\n",
    "\n",
    "sample = np.expand_dims(test_set_flat[example], axis=0)\n",
    "label = np.expand_dims(test_labels_one_hot[example], axis=0)\n",
    "\n",
    "digit = np.where(label[0]==1.0)[0][0]\n",
    "\n",
    "feed_dict = {model.input: sample, model.ground_truth: label}\n",
    "prediction = model.sess.run(model.prediction, feed_dict=feed_dict)[0]\n",
    "\n",
    "image = np.reshape(sample, (32, 32))\n",
    "\n",
    "print(\"Test sample digit: {}\".format(digit))\n",
    "fig, ax = plt.subplots(1, 2, figsize=(17, 5))\n",
    "ax[0].imshow(image, cmap='gray')\n",
    "ax[0].set_title(\"Test example\")\n",
    "\n",
    "classes = np.arange(10)\n",
    "width = 1.0\n",
    "\n",
    "#fig, ax = plt.subplots()\n",
    "ax[1].bar(classes, prediction, width, color='Blue')\n",
    "ax[1].set_ylabel('Probabilities')\n",
    "ax[1].set_title('Network categorical distribution')\n",
    "ax[1].set_xticks(classes)\n",
    "ax[1].set_xticklabels(('0', '1', '2', '3', '4', '5', '6', '7', '8', '9'))\n",
    "ax[1].set_xlabel('Digit class')\n",
    "\n",
    "plt.show()\n",
    "\n",
    "print(\"Network prediction probabilities:\")\n",
    "print(prediction)"
   ]
  },
  {
   "cell_type": "code",
   "execution_count": null,
   "metadata": {
    "collapsed": true
   },
   "outputs": [],
   "source": [
    "model.sess.close()"
   ]
  }
 ],
 "metadata": {
  "kernelspec": {
   "display_name": "Python 3",
   "language": "python",
   "name": "python3"
  },
  "language_info": {
   "codemirror_mode": {
    "name": "ipython",
    "version": 3
   },
   "file_extension": ".py",
   "mimetype": "text/x-python",
   "name": "python",
   "nbconvert_exporter": "python",
   "pygments_lexer": "ipython3",
   "version": "3.6.3"
  }
 },
 "nbformat": 4,
 "nbformat_minor": 2
}
>>>>>>> e01762963b01d9387706731763845a80c6714ac7
